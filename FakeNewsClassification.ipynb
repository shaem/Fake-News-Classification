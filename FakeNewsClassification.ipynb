{
  "nbformat": 4,
  "nbformat_minor": 0,
  "metadata": {
    "colab": {
      "name": "FakeNewsClassification.ipynb",
      "provenance": [],
      "collapsed_sections": [],
      "include_colab_link": true
    },
    "kernelspec": {
      "display_name": "Python 3",
      "name": "python3"
    },
    "language_info": {
      "name": "python"
    }
  },
  "cells": [
    {
      "cell_type": "markdown",
      "metadata": {
        "id": "view-in-github",
        "colab_type": "text"
      },
      "source": [
        "<a href=\"https://colab.research.google.com/github/shaem/Fake-News-Classification/blob/main/FakeNewsClassification.ipynb\" target=\"_parent\"><img src=\"https://colab.research.google.com/assets/colab-badge.svg\" alt=\"Open In Colab\"/></a>"
      ]
    },
    {
      "cell_type": "markdown",
      "metadata": {
        "id": "j-tK6obrB9n_"
      },
      "source": [
        "Dataset URL: https://www.kaggle.com/hassanamin/textdb3?select=fake_or_real_news.csv"
      ]
    },
    {
      "cell_type": "markdown",
      "metadata": {
        "id": "2UaKTR7OcRyc"
      },
      "source": [
        "# **Dataset and Data Visualization**"
      ]
    },
    {
      "cell_type": "markdown",
      "metadata": {
        "id": "_xMU80A9-8Hh"
      },
      "source": [
        "Import the required library and mount to google drive to read dataset file."
      ]
    },
    {
      "cell_type": "code",
      "metadata": {
        "id": "n7jxtoEoD_Uw"
      },
      "source": [
        "#Import required library\n",
        "import numpy as np\n",
        "import pandas as pd"
      ],
      "execution_count": null,
      "outputs": []
    },
    {
      "cell_type": "code",
      "metadata": {
        "colab": {
          "base_uri": "https://localhost:8080/"
        },
        "id": "RGK0HfpLktU_",
        "outputId": "2f4dd349-c540-43db-8236-ed16d9ead728"
      },
      "source": [
        "#mount to google drive\n",
        "from google.colab import drive\n",
        "drive.mount('/content/drive')"
      ],
      "execution_count": null,
      "outputs": [
        {
          "output_type": "stream",
          "name": "stdout",
          "text": [
            "Drive already mounted at /content/drive; to attempt to forcibly remount, call drive.mount(\"/content/drive\", force_remount=True).\n"
          ]
        }
      ]
    },
    {
      "cell_type": "code",
      "metadata": {
        "id": "gV8X3QauB7pP"
      },
      "source": [
        "#read file\n",
        "fail='/content/drive/MyDrive/Colab Notebooks/fake_or_real_news.csv'\n",
        "news_csv = pd.read_csv(fail)"
      ],
      "execution_count": null,
      "outputs": []
    },
    {
      "cell_type": "markdown",
      "metadata": {
        "id": "JvJncszz_KiY"
      },
      "source": [
        "Copy the dataset to another attribute without affecting the original data. Then, get some view of the dataset."
      ]
    },
    {
      "cell_type": "code",
      "metadata": {
        "colab": {
          "base_uri": "https://localhost:8080/",
          "height": 363
        },
        "id": "OHMVUCgsCsyp",
        "outputId": "5f100c66-e8cf-486f-d3b1-5477a7dc3a35"
      },
      "source": [
        "news = news_csv.copy()\n",
        "\n",
        "#Display first 10 records in dataset\n",
        "news.head(10)"
      ],
      "execution_count": null,
      "outputs": [
        {
          "output_type": "execute_result",
          "data": {
            "text/plain": [
              "   Unnamed: 0                                              title  \\\n",
              "0        8476                       You Can Smell Hillary’s Fear   \n",
              "1       10294  Watch The Exact Moment Paul Ryan Committed Pol...   \n",
              "2        3608        Kerry to go to Paris in gesture of sympathy   \n",
              "3       10142  Bernie supporters on Twitter erupt in anger ag...   \n",
              "4         875   The Battle of New York: Why This Primary Matters   \n",
              "5        6903                                        Tehran, USA   \n",
              "6        7341  Girl Horrified At What She Watches Boyfriend D...   \n",
              "7          95                  ‘Britain’s Schindler’ Dies at 106   \n",
              "8        4869  Fact check: Trump and Clinton at the 'commande...   \n",
              "9        2909  Iran reportedly makes new push for uranium con...   \n",
              "\n",
              "                                                text label  \n",
              "0  Daniel Greenfield, a Shillman Journalism Fello...  FAKE  \n",
              "1  Google Pinterest Digg Linkedin Reddit Stumbleu...  FAKE  \n",
              "2  U.S. Secretary of State John F. Kerry said Mon...  REAL  \n",
              "3  — Kaydee King (@KaydeeKing) November 9, 2016 T...  FAKE  \n",
              "4  It's primary day in New York and front-runners...  REAL  \n",
              "5    \\nI’m not an immigrant, but my grandparents ...  FAKE  \n",
              "6  Share This Baylee Luciani (left), Screenshot o...  FAKE  \n",
              "7  A Czech stockbroker who saved more than 650 Je...  REAL  \n",
              "8  Hillary Clinton and Donald Trump made some ina...  REAL  \n",
              "9  Iranian negotiators reportedly have made a las...  REAL  "
            ],
            "text/html": [
              "\n",
              "  <div id=\"df-6566c0e5-2ff1-4e03-b0b7-66532a54d866\">\n",
              "    <div class=\"colab-df-container\">\n",
              "      <div>\n",
              "<style scoped>\n",
              "    .dataframe tbody tr th:only-of-type {\n",
              "        vertical-align: middle;\n",
              "    }\n",
              "\n",
              "    .dataframe tbody tr th {\n",
              "        vertical-align: top;\n",
              "    }\n",
              "\n",
              "    .dataframe thead th {\n",
              "        text-align: right;\n",
              "    }\n",
              "</style>\n",
              "<table border=\"1\" class=\"dataframe\">\n",
              "  <thead>\n",
              "    <tr style=\"text-align: right;\">\n",
              "      <th></th>\n",
              "      <th>Unnamed: 0</th>\n",
              "      <th>title</th>\n",
              "      <th>text</th>\n",
              "      <th>label</th>\n",
              "    </tr>\n",
              "  </thead>\n",
              "  <tbody>\n",
              "    <tr>\n",
              "      <th>0</th>\n",
              "      <td>8476</td>\n",
              "      <td>You Can Smell Hillary’s Fear</td>\n",
              "      <td>Daniel Greenfield, a Shillman Journalism Fello...</td>\n",
              "      <td>FAKE</td>\n",
              "    </tr>\n",
              "    <tr>\n",
              "      <th>1</th>\n",
              "      <td>10294</td>\n",
              "      <td>Watch The Exact Moment Paul Ryan Committed Pol...</td>\n",
              "      <td>Google Pinterest Digg Linkedin Reddit Stumbleu...</td>\n",
              "      <td>FAKE</td>\n",
              "    </tr>\n",
              "    <tr>\n",
              "      <th>2</th>\n",
              "      <td>3608</td>\n",
              "      <td>Kerry to go to Paris in gesture of sympathy</td>\n",
              "      <td>U.S. Secretary of State John F. Kerry said Mon...</td>\n",
              "      <td>REAL</td>\n",
              "    </tr>\n",
              "    <tr>\n",
              "      <th>3</th>\n",
              "      <td>10142</td>\n",
              "      <td>Bernie supporters on Twitter erupt in anger ag...</td>\n",
              "      <td>— Kaydee King (@KaydeeKing) November 9, 2016 T...</td>\n",
              "      <td>FAKE</td>\n",
              "    </tr>\n",
              "    <tr>\n",
              "      <th>4</th>\n",
              "      <td>875</td>\n",
              "      <td>The Battle of New York: Why This Primary Matters</td>\n",
              "      <td>It's primary day in New York and front-runners...</td>\n",
              "      <td>REAL</td>\n",
              "    </tr>\n",
              "    <tr>\n",
              "      <th>5</th>\n",
              "      <td>6903</td>\n",
              "      <td>Tehran, USA</td>\n",
              "      <td>\\nI’m not an immigrant, but my grandparents ...</td>\n",
              "      <td>FAKE</td>\n",
              "    </tr>\n",
              "    <tr>\n",
              "      <th>6</th>\n",
              "      <td>7341</td>\n",
              "      <td>Girl Horrified At What She Watches Boyfriend D...</td>\n",
              "      <td>Share This Baylee Luciani (left), Screenshot o...</td>\n",
              "      <td>FAKE</td>\n",
              "    </tr>\n",
              "    <tr>\n",
              "      <th>7</th>\n",
              "      <td>95</td>\n",
              "      <td>‘Britain’s Schindler’ Dies at 106</td>\n",
              "      <td>A Czech stockbroker who saved more than 650 Je...</td>\n",
              "      <td>REAL</td>\n",
              "    </tr>\n",
              "    <tr>\n",
              "      <th>8</th>\n",
              "      <td>4869</td>\n",
              "      <td>Fact check: Trump and Clinton at the 'commande...</td>\n",
              "      <td>Hillary Clinton and Donald Trump made some ina...</td>\n",
              "      <td>REAL</td>\n",
              "    </tr>\n",
              "    <tr>\n",
              "      <th>9</th>\n",
              "      <td>2909</td>\n",
              "      <td>Iran reportedly makes new push for uranium con...</td>\n",
              "      <td>Iranian negotiators reportedly have made a las...</td>\n",
              "      <td>REAL</td>\n",
              "    </tr>\n",
              "  </tbody>\n",
              "</table>\n",
              "</div>\n",
              "      <button class=\"colab-df-convert\" onclick=\"convertToInteractive('df-6566c0e5-2ff1-4e03-b0b7-66532a54d866')\"\n",
              "              title=\"Convert this dataframe to an interactive table.\"\n",
              "              style=\"display:none;\">\n",
              "        \n",
              "  <svg xmlns=\"http://www.w3.org/2000/svg\" height=\"24px\"viewBox=\"0 0 24 24\"\n",
              "       width=\"24px\">\n",
              "    <path d=\"M0 0h24v24H0V0z\" fill=\"none\"/>\n",
              "    <path d=\"M18.56 5.44l.94 2.06.94-2.06 2.06-.94-2.06-.94-.94-2.06-.94 2.06-2.06.94zm-11 1L8.5 8.5l.94-2.06 2.06-.94-2.06-.94L8.5 2.5l-.94 2.06-2.06.94zm10 10l.94 2.06.94-2.06 2.06-.94-2.06-.94-.94-2.06-.94 2.06-2.06.94z\"/><path d=\"M17.41 7.96l-1.37-1.37c-.4-.4-.92-.59-1.43-.59-.52 0-1.04.2-1.43.59L10.3 9.45l-7.72 7.72c-.78.78-.78 2.05 0 2.83L4 21.41c.39.39.9.59 1.41.59.51 0 1.02-.2 1.41-.59l7.78-7.78 2.81-2.81c.8-.78.8-2.07 0-2.86zM5.41 20L4 18.59l7.72-7.72 1.47 1.35L5.41 20z\"/>\n",
              "  </svg>\n",
              "      </button>\n",
              "      \n",
              "  <style>\n",
              "    .colab-df-container {\n",
              "      display:flex;\n",
              "      flex-wrap:wrap;\n",
              "      gap: 12px;\n",
              "    }\n",
              "\n",
              "    .colab-df-convert {\n",
              "      background-color: #E8F0FE;\n",
              "      border: none;\n",
              "      border-radius: 50%;\n",
              "      cursor: pointer;\n",
              "      display: none;\n",
              "      fill: #1967D2;\n",
              "      height: 32px;\n",
              "      padding: 0 0 0 0;\n",
              "      width: 32px;\n",
              "    }\n",
              "\n",
              "    .colab-df-convert:hover {\n",
              "      background-color: #E2EBFA;\n",
              "      box-shadow: 0px 1px 2px rgba(60, 64, 67, 0.3), 0px 1px 3px 1px rgba(60, 64, 67, 0.15);\n",
              "      fill: #174EA6;\n",
              "    }\n",
              "\n",
              "    [theme=dark] .colab-df-convert {\n",
              "      background-color: #3B4455;\n",
              "      fill: #D2E3FC;\n",
              "    }\n",
              "\n",
              "    [theme=dark] .colab-df-convert:hover {\n",
              "      background-color: #434B5C;\n",
              "      box-shadow: 0px 1px 3px 1px rgba(0, 0, 0, 0.15);\n",
              "      filter: drop-shadow(0px 1px 2px rgba(0, 0, 0, 0.3));\n",
              "      fill: #FFFFFF;\n",
              "    }\n",
              "  </style>\n",
              "\n",
              "      <script>\n",
              "        const buttonEl =\n",
              "          document.querySelector('#df-6566c0e5-2ff1-4e03-b0b7-66532a54d866 button.colab-df-convert');\n",
              "        buttonEl.style.display =\n",
              "          google.colab.kernel.accessAllowed ? 'block' : 'none';\n",
              "\n",
              "        async function convertToInteractive(key) {\n",
              "          const element = document.querySelector('#df-6566c0e5-2ff1-4e03-b0b7-66532a54d866');\n",
              "          const dataTable =\n",
              "            await google.colab.kernel.invokeFunction('convertToInteractive',\n",
              "                                                     [key], {});\n",
              "          if (!dataTable) return;\n",
              "\n",
              "          const docLinkHtml = 'Like what you see? Visit the ' +\n",
              "            '<a target=\"_blank\" href=https://colab.research.google.com/notebooks/data_table.ipynb>data table notebook</a>'\n",
              "            + ' to learn more about interactive tables.';\n",
              "          element.innerHTML = '';\n",
              "          dataTable['output_type'] = 'display_data';\n",
              "          await google.colab.output.renderOutput(dataTable, element);\n",
              "          const docLink = document.createElement('div');\n",
              "          docLink.innerHTML = docLinkHtml;\n",
              "          element.appendChild(docLink);\n",
              "        }\n",
              "      </script>\n",
              "    </div>\n",
              "  </div>\n",
              "  "
            ]
          },
          "metadata": {},
          "execution_count": 41
        }
      ]
    },
    {
      "cell_type": "code",
      "metadata": {
        "colab": {
          "base_uri": "https://localhost:8080/"
        },
        "id": "gg_B3AsmlPgm",
        "outputId": "69056c65-cc2e-472f-9bd6-b8ee38b57a33"
      },
      "source": [
        "#Get dataset info\n",
        "news.info()"
      ],
      "execution_count": null,
      "outputs": [
        {
          "output_type": "stream",
          "name": "stdout",
          "text": [
            "<class 'pandas.core.frame.DataFrame'>\n",
            "RangeIndex: 6335 entries, 0 to 6334\n",
            "Data columns (total 4 columns):\n",
            " #   Column      Non-Null Count  Dtype \n",
            "---  ------      --------------  ----- \n",
            " 0   Unnamed: 0  6335 non-null   int64 \n",
            " 1   title       6335 non-null   object\n",
            " 2   text        6335 non-null   object\n",
            " 3   label       6335 non-null   object\n",
            "dtypes: int64(1), object(3)\n",
            "memory usage: 198.1+ KB\n"
          ]
        }
      ]
    },
    {
      "cell_type": "code",
      "metadata": {
        "colab": {
          "base_uri": "https://localhost:8080/",
          "height": 300
        },
        "id": "vBAKfk3jlCf1",
        "outputId": "0cc8ab00-c21a-4371-b89e-151d74581c30"
      },
      "source": [
        "#Get dataset decsription\n",
        "news.describe()"
      ],
      "execution_count": null,
      "outputs": [
        {
          "output_type": "execute_result",
          "data": {
            "text/plain": [
              "         Unnamed: 0\n",
              "count   6335.000000\n",
              "mean    5280.415627\n",
              "std     3038.503953\n",
              "min        2.000000\n",
              "25%     2674.500000\n",
              "50%     5271.000000\n",
              "75%     7901.000000\n",
              "max    10557.000000"
            ],
            "text/html": [
              "\n",
              "  <div id=\"df-a7ec8b88-7df4-4e35-9124-68de99144c06\">\n",
              "    <div class=\"colab-df-container\">\n",
              "      <div>\n",
              "<style scoped>\n",
              "    .dataframe tbody tr th:only-of-type {\n",
              "        vertical-align: middle;\n",
              "    }\n",
              "\n",
              "    .dataframe tbody tr th {\n",
              "        vertical-align: top;\n",
              "    }\n",
              "\n",
              "    .dataframe thead th {\n",
              "        text-align: right;\n",
              "    }\n",
              "</style>\n",
              "<table border=\"1\" class=\"dataframe\">\n",
              "  <thead>\n",
              "    <tr style=\"text-align: right;\">\n",
              "      <th></th>\n",
              "      <th>Unnamed: 0</th>\n",
              "    </tr>\n",
              "  </thead>\n",
              "  <tbody>\n",
              "    <tr>\n",
              "      <th>count</th>\n",
              "      <td>6335.000000</td>\n",
              "    </tr>\n",
              "    <tr>\n",
              "      <th>mean</th>\n",
              "      <td>5280.415627</td>\n",
              "    </tr>\n",
              "    <tr>\n",
              "      <th>std</th>\n",
              "      <td>3038.503953</td>\n",
              "    </tr>\n",
              "    <tr>\n",
              "      <th>min</th>\n",
              "      <td>2.000000</td>\n",
              "    </tr>\n",
              "    <tr>\n",
              "      <th>25%</th>\n",
              "      <td>2674.500000</td>\n",
              "    </tr>\n",
              "    <tr>\n",
              "      <th>50%</th>\n",
              "      <td>5271.000000</td>\n",
              "    </tr>\n",
              "    <tr>\n",
              "      <th>75%</th>\n",
              "      <td>7901.000000</td>\n",
              "    </tr>\n",
              "    <tr>\n",
              "      <th>max</th>\n",
              "      <td>10557.000000</td>\n",
              "    </tr>\n",
              "  </tbody>\n",
              "</table>\n",
              "</div>\n",
              "      <button class=\"colab-df-convert\" onclick=\"convertToInteractive('df-a7ec8b88-7df4-4e35-9124-68de99144c06')\"\n",
              "              title=\"Convert this dataframe to an interactive table.\"\n",
              "              style=\"display:none;\">\n",
              "        \n",
              "  <svg xmlns=\"http://www.w3.org/2000/svg\" height=\"24px\"viewBox=\"0 0 24 24\"\n",
              "       width=\"24px\">\n",
              "    <path d=\"M0 0h24v24H0V0z\" fill=\"none\"/>\n",
              "    <path d=\"M18.56 5.44l.94 2.06.94-2.06 2.06-.94-2.06-.94-.94-2.06-.94 2.06-2.06.94zm-11 1L8.5 8.5l.94-2.06 2.06-.94-2.06-.94L8.5 2.5l-.94 2.06-2.06.94zm10 10l.94 2.06.94-2.06 2.06-.94-2.06-.94-.94-2.06-.94 2.06-2.06.94z\"/><path d=\"M17.41 7.96l-1.37-1.37c-.4-.4-.92-.59-1.43-.59-.52 0-1.04.2-1.43.59L10.3 9.45l-7.72 7.72c-.78.78-.78 2.05 0 2.83L4 21.41c.39.39.9.59 1.41.59.51 0 1.02-.2 1.41-.59l7.78-7.78 2.81-2.81c.8-.78.8-2.07 0-2.86zM5.41 20L4 18.59l7.72-7.72 1.47 1.35L5.41 20z\"/>\n",
              "  </svg>\n",
              "      </button>\n",
              "      \n",
              "  <style>\n",
              "    .colab-df-container {\n",
              "      display:flex;\n",
              "      flex-wrap:wrap;\n",
              "      gap: 12px;\n",
              "    }\n",
              "\n",
              "    .colab-df-convert {\n",
              "      background-color: #E8F0FE;\n",
              "      border: none;\n",
              "      border-radius: 50%;\n",
              "      cursor: pointer;\n",
              "      display: none;\n",
              "      fill: #1967D2;\n",
              "      height: 32px;\n",
              "      padding: 0 0 0 0;\n",
              "      width: 32px;\n",
              "    }\n",
              "\n",
              "    .colab-df-convert:hover {\n",
              "      background-color: #E2EBFA;\n",
              "      box-shadow: 0px 1px 2px rgba(60, 64, 67, 0.3), 0px 1px 3px 1px rgba(60, 64, 67, 0.15);\n",
              "      fill: #174EA6;\n",
              "    }\n",
              "\n",
              "    [theme=dark] .colab-df-convert {\n",
              "      background-color: #3B4455;\n",
              "      fill: #D2E3FC;\n",
              "    }\n",
              "\n",
              "    [theme=dark] .colab-df-convert:hover {\n",
              "      background-color: #434B5C;\n",
              "      box-shadow: 0px 1px 3px 1px rgba(0, 0, 0, 0.15);\n",
              "      filter: drop-shadow(0px 1px 2px rgba(0, 0, 0, 0.3));\n",
              "      fill: #FFFFFF;\n",
              "    }\n",
              "  </style>\n",
              "\n",
              "      <script>\n",
              "        const buttonEl =\n",
              "          document.querySelector('#df-a7ec8b88-7df4-4e35-9124-68de99144c06 button.colab-df-convert');\n",
              "        buttonEl.style.display =\n",
              "          google.colab.kernel.accessAllowed ? 'block' : 'none';\n",
              "\n",
              "        async function convertToInteractive(key) {\n",
              "          const element = document.querySelector('#df-a7ec8b88-7df4-4e35-9124-68de99144c06');\n",
              "          const dataTable =\n",
              "            await google.colab.kernel.invokeFunction('convertToInteractive',\n",
              "                                                     [key], {});\n",
              "          if (!dataTable) return;\n",
              "\n",
              "          const docLinkHtml = 'Like what you see? Visit the ' +\n",
              "            '<a target=\"_blank\" href=https://colab.research.google.com/notebooks/data_table.ipynb>data table notebook</a>'\n",
              "            + ' to learn more about interactive tables.';\n",
              "          element.innerHTML = '';\n",
              "          dataTable['output_type'] = 'display_data';\n",
              "          await google.colab.output.renderOutput(dataTable, element);\n",
              "          const docLink = document.createElement('div');\n",
              "          docLink.innerHTML = docLinkHtml;\n",
              "          element.appendChild(docLink);\n",
              "        }\n",
              "      </script>\n",
              "    </div>\n",
              "  </div>\n",
              "  "
            ]
          },
          "metadata": {},
          "execution_count": 43
        }
      ]
    },
    {
      "cell_type": "code",
      "metadata": {
        "colab": {
          "base_uri": "https://localhost:8080/"
        },
        "id": "sAmnhBPKcZfb",
        "outputId": "9e81c9b4-92d0-43c5-f17a-f32cacf8aae0"
      },
      "source": [
        "#Get the number of labels/categories of the data\n",
        "news['label'].value_counts()"
      ],
      "execution_count": null,
      "outputs": [
        {
          "output_type": "execute_result",
          "data": {
            "text/plain": [
              "REAL    3171\n",
              "FAKE    3164\n",
              "Name: label, dtype: int64"
            ]
          },
          "metadata": {},
          "execution_count": 44
        }
      ]
    },
    {
      "cell_type": "markdown",
      "metadata": {
        "id": "j2X9LV4DBOsW"
      },
      "source": [
        "Visualize the data based on label"
      ]
    },
    {
      "cell_type": "code",
      "metadata": {
        "colab": {
          "base_uri": "https://localhost:8080/",
          "height": 265
        },
        "id": "rCUhUBovckg5",
        "outputId": "7c1dde86-6cab-475d-e133-12f99d17e126"
      },
      "source": [
        "#Import required library\n",
        "import seaborn as sns\n",
        "import matplotlib.pyplot as plt\n",
        "\n",
        "#Define bar chart\n",
        "sns.barplot(x=news['label'].value_counts().index,y=news['label'].value_counts().values,data=news)\n",
        "plt.show()"
      ],
      "execution_count": null,
      "outputs": [
        {
          "output_type": "display_data",
          "data": {
            "text/plain": [
              "<Figure size 432x288 with 1 Axes>"
            ],
            "image/png": "[encoded data removed]"
          },
          "metadata": {
            "needs_background": "light"
          }
        }
      ]
    },
    {
      "cell_type": "markdown",
      "metadata": {
        "id": "eYBUSc5mcxe4"
      },
      "source": [
        "# **Data Preprocessing**"
      ]
    },
    {
      "cell_type": "markdown",
      "metadata": {
        "id": "sQaowlBrBe9X"
      },
      "source": [
        "Convert the data into a clean set of data.\n",
        "\n",
        "Check the dataset wheater have a null value or not"
      ]
    },
    {
      "cell_type": "code",
      "metadata": {
        "colab": {
          "base_uri": "https://localhost:8080/"
        },
        "id": "bNPLmvmglhEo",
        "outputId": "50eda741-4d8d-4e49-c35c-42fc4a03e1df"
      },
      "source": [
        "#To get null info\n",
        "news.isna().sum()"
      ],
      "execution_count": null,
      "outputs": [
        {
          "output_type": "execute_result",
          "data": {
            "text/plain": [
              "Unnamed: 0    0\n",
              "title         0\n",
              "text          0\n",
              "label         0\n",
              "dtype: int64"
            ]
          },
          "metadata": {},
          "execution_count": 46
        }
      ]
    },
    {
      "cell_type": "markdown",
      "metadata": {
        "id": "roABdlFEB0eA"
      },
      "source": [
        "There is no null value. So, all the data will be processed to the next step."
      ]
    },
    {
      "cell_type": "code",
      "metadata": {
        "colab": {
          "base_uri": "https://localhost:8080/"
        },
        "id": "HvVaaM3doRZK",
        "outputId": "fa885c35-1be0-4f7e-8274-0ff256764391"
      },
      "source": [
        "#To get duplicate info\n",
        "news.duplicated(subset = ['title','text']).sum()"
      ],
      "execution_count": null,
      "outputs": [
        {
          "output_type": "execute_result",
          "data": {
            "text/plain": [
              "29"
            ]
          },
          "metadata": {},
          "execution_count": 47
        }
      ]
    },
    {
      "cell_type": "markdown",
      "metadata": {
        "id": "tzvKKe9ACCkP"
      },
      "source": [
        "There are 29 duplicates rows. Then, drop it to get the clean data."
      ]
    },
    {
      "cell_type": "code",
      "metadata": {
        "id": "ocFYXjbJ15cr"
      },
      "source": [
        "#Drop duplicate rows\n",
        "news = news.drop_duplicates(subset = ['title','text'])"
      ],
      "execution_count": null,
      "outputs": []
    },
    {
      "cell_type": "code",
      "metadata": {
        "colab": {
          "base_uri": "https://localhost:8080/"
        },
        "id": "1Nb6pWLG2PX7",
        "outputId": "4789f9ba-99ce-4643-aa63-eddb1a55db4a"
      },
      "source": [
        "#Recheck dataset info\n",
        "news.info()"
      ],
      "execution_count": null,
      "outputs": [
        {
          "output_type": "stream",
          "name": "stdout",
          "text": [
            "<class 'pandas.core.frame.DataFrame'>\n",
            "Int64Index: 6306 entries, 0 to 6334\n",
            "Data columns (total 4 columns):\n",
            " #   Column      Non-Null Count  Dtype \n",
            "---  ------      --------------  ----- \n",
            " 0   Unnamed: 0  6306 non-null   int64 \n",
            " 1   title       6306 non-null   object\n",
            " 2   text        6306 non-null   object\n",
            " 3   label       6306 non-null   object\n",
            "dtypes: int64(1), object(3)\n",
            "memory usage: 246.3+ KB\n"
          ]
        }
      ]
    },
    {
      "cell_type": "markdown",
      "metadata": {
        "id": "H035_kGSCWAI"
      },
      "source": [
        "Combine the 2 attributes (title and text) to make other preprocessing activities easier for text classification."
      ]
    },
    {
      "cell_type": "code",
      "metadata": {
        "id": "mszsFMMinobe",
        "colab": {
          "base_uri": "https://localhost:8080/"
        },
        "outputId": "5d112b9f-87d9-444d-ff29-2a169d3c5080"
      },
      "source": [
        "#Combine title and text into 1 attribute\n",
        "news['article'] = news['title']+\" \"+news['text']"
      ],
      "execution_count": null,
      "outputs": [
        {
          "output_type": "stream",
          "name": "stderr",
          "text": [
            "/usr/local/lib/python3.7/dist-packages/ipykernel_launcher.py:2: SettingWithCopyWarning: \n",
            "A value is trying to be set on a copy of a slice from a DataFrame.\n",
            "Try using .loc[row_indexer,col_indexer] = value instead\n",
            "\n",
            "See the caveats in the documentation: https://pandas.pydata.org/pandas-docs/stable/user_guide/indexing.html#returning-a-view-versus-a-copy\n",
            "  \n"
          ]
        }
      ]
    },
    {
      "cell_type": "code",
      "metadata": {
        "colab": {
          "base_uri": "https://localhost:8080/",
          "height": 363
        },
        "id": "tTIRHH_UzfA1",
        "outputId": "97f05b5f-b614-42c8-f186-fa9a407adfe7"
      },
      "source": [
        "#Check wheater it combine or not\n",
        "news.head(10)"
      ],
      "execution_count": null,
      "outputs": [
        {
          "output_type": "execute_result",
          "data": {
            "text/plain": [
              "   Unnamed: 0                                              title  \\\n",
              "0        8476                       You Can Smell Hillary’s Fear   \n",
              "1       10294  Watch The Exact Moment Paul Ryan Committed Pol...   \n",
              "2        3608        Kerry to go to Paris in gesture of sympathy   \n",
              "3       10142  Bernie supporters on Twitter erupt in anger ag...   \n",
              "4         875   The Battle of New York: Why This Primary Matters   \n",
              "5        6903                                        Tehran, USA   \n",
              "6        7341  Girl Horrified At What She Watches Boyfriend D...   \n",
              "7          95                  ‘Britain’s Schindler’ Dies at 106   \n",
              "8        4869  Fact check: Trump and Clinton at the 'commande...   \n",
              "9        2909  Iran reportedly makes new push for uranium con...   \n",
              "\n",
              "                                                text label  \\\n",
              "0  Daniel Greenfield, a Shillman Journalism Fello...  FAKE   \n",
              "1  Google Pinterest Digg Linkedin Reddit Stumbleu...  FAKE   \n",
              "2  U.S. Secretary of State John F. Kerry said Mon...  REAL   \n",
              "3  — Kaydee King (@KaydeeKing) November 9, 2016 T...  FAKE   \n",
              "4  It's primary day in New York and front-runners...  REAL   \n",
              "5    \\nI’m not an immigrant, but my grandparents ...  FAKE   \n",
              "6  Share This Baylee Luciani (left), Screenshot o...  FAKE   \n",
              "7  A Czech stockbroker who saved more than 650 Je...  REAL   \n",
              "8  Hillary Clinton and Donald Trump made some ina...  REAL   \n",
              "9  Iranian negotiators reportedly have made a las...  REAL   \n",
              "\n",
              "                                             article  \n",
              "0  You Can Smell Hillary’s Fear Daniel Greenfield...  \n",
              "1  Watch The Exact Moment Paul Ryan Committed Pol...  \n",
              "2  Kerry to go to Paris in gesture of sympathy U....  \n",
              "3  Bernie supporters on Twitter erupt in anger ag...  \n",
              "4  The Battle of New York: Why This Primary Matte...  \n",
              "5  Tehran, USA   \\nI’m not an immigrant, but my g...  \n",
              "6  Girl Horrified At What She Watches Boyfriend D...  \n",
              "7  ‘Britain’s Schindler’ Dies at 106 A Czech stoc...  \n",
              "8  Fact check: Trump and Clinton at the 'commande...  \n",
              "9  Iran reportedly makes new push for uranium con...  "
            ],
            "text/html": [
              "\n",
              "  <div id=\"df-ce386285-6f9c-40a1-bbd8-d9cbb6fb1f0d\">\n",
              "    <div class=\"colab-df-container\">\n",
              "      <div>\n",
              "<style scoped>\n",
              "    .dataframe tbody tr th:only-of-type {\n",
              "        vertical-align: middle;\n",
              "    }\n",
              "\n",
              "    .dataframe tbody tr th {\n",
              "        vertical-align: top;\n",
              "    }\n",
              "\n",
              "    .dataframe thead th {\n",
              "        text-align: right;\n",
              "    }\n",
              "</style>\n",
              "<table border=\"1\" class=\"dataframe\">\n",
              "  <thead>\n",
              "    <tr style=\"text-align: right;\">\n",
              "      <th></th>\n",
              "      <th>Unnamed: 0</th>\n",
              "      <th>title</th>\n",
              "      <th>text</th>\n",
              "      <th>label</th>\n",
              "      <th>article</th>\n",
              "    </tr>\n",
              "  </thead>\n",
              "  <tbody>\n",
              "    <tr>\n",
              "      <th>0</th>\n",
              "      <td>8476</td>\n",
              "      <td>You Can Smell Hillary’s Fear</td>\n",
              "      <td>Daniel Greenfield, a Shillman Journalism Fello...</td>\n",
              "      <td>FAKE</td>\n",
              "      <td>You Can Smell Hillary’s Fear Daniel Greenfield...</td>\n",
              "    </tr>\n",
              "    <tr>\n",
              "      <th>1</th>\n",
              "      <td>10294</td>\n",
              "      <td>Watch The Exact Moment Paul Ryan Committed Pol...</td>\n",
              "      <td>Google Pinterest Digg Linkedin Reddit Stumbleu...</td>\n",
              "      <td>FAKE</td>\n",
              "      <td>Watch The Exact Moment Paul Ryan Committed Pol...</td>\n",
              "    </tr>\n",
              "    <tr>\n",
              "      <th>2</th>\n",
              "      <td>3608</td>\n",
              "      <td>Kerry to go to Paris in gesture of sympathy</td>\n",
              "      <td>U.S. Secretary of State John F. Kerry said Mon...</td>\n",
              "      <td>REAL</td>\n",
              "      <td>Kerry to go to Paris in gesture of sympathy U....</td>\n",
              "    </tr>\n",
              "    <tr>\n",
              "      <th>3</th>\n",
              "      <td>10142</td>\n",
              "      <td>Bernie supporters on Twitter erupt in anger ag...</td>\n",
              "      <td>— Kaydee King (@KaydeeKing) November 9, 2016 T...</td>\n",
              "      <td>FAKE</td>\n",
              "      <td>Bernie supporters on Twitter erupt in anger ag...</td>\n",
              "    </tr>\n",
              "    <tr>\n",
              "      <th>4</th>\n",
              "      <td>875</td>\n",
              "      <td>The Battle of New York: Why This Primary Matters</td>\n",
              "      <td>It's primary day in New York and front-runners...</td>\n",
              "      <td>REAL</td>\n",
              "      <td>The Battle of New York: Why This Primary Matte...</td>\n",
              "    </tr>\n",
              "    <tr>\n",
              "      <th>5</th>\n",
              "      <td>6903</td>\n",
              "      <td>Tehran, USA</td>\n",
              "      <td>\\nI’m not an immigrant, but my grandparents ...</td>\n",
              "      <td>FAKE</td>\n",
              "      <td>Tehran, USA   \\nI’m not an immigrant, but my g...</td>\n",
              "    </tr>\n",
              "    <tr>\n",
              "      <th>6</th>\n",
              "      <td>7341</td>\n",
              "      <td>Girl Horrified At What She Watches Boyfriend D...</td>\n",
              "      <td>Share This Baylee Luciani (left), Screenshot o...</td>\n",
              "      <td>FAKE</td>\n",
              "      <td>Girl Horrified At What She Watches Boyfriend D...</td>\n",
              "    </tr>\n",
              "    <tr>\n",
              "      <th>7</th>\n",
              "      <td>95</td>\n",
              "      <td>‘Britain’s Schindler’ Dies at 106</td>\n",
              "      <td>A Czech stockbroker who saved more than 650 Je...</td>\n",
              "      <td>REAL</td>\n",
              "      <td>‘Britain’s Schindler’ Dies at 106 A Czech stoc...</td>\n",
              "    </tr>\n",
              "    <tr>\n",
              "      <th>8</th>\n",
              "      <td>4869</td>\n",
              "      <td>Fact check: Trump and Clinton at the 'commande...</td>\n",
              "      <td>Hillary Clinton and Donald Trump made some ina...</td>\n",
              "      <td>REAL</td>\n",
              "      <td>Fact check: Trump and Clinton at the 'commande...</td>\n",
              "    </tr>\n",
              "    <tr>\n",
              "      <th>9</th>\n",
              "      <td>2909</td>\n",
              "      <td>Iran reportedly makes new push for uranium con...</td>\n",
              "      <td>Iranian negotiators reportedly have made a las...</td>\n",
              "      <td>REAL</td>\n",
              "      <td>Iran reportedly makes new push for uranium con...</td>\n",
              "    </tr>\n",
              "  </tbody>\n",
              "</table>\n",
              "</div>\n",
              "      <button class=\"colab-df-convert\" onclick=\"convertToInteractive('df-ce386285-6f9c-40a1-bbd8-d9cbb6fb1f0d')\"\n",
              "              title=\"Convert this dataframe to an interactive table.\"\n",
              "              style=\"display:none;\">\n",
              "        \n",
              "  <svg xmlns=\"http://www.w3.org/2000/svg\" height=\"24px\"viewBox=\"0 0 24 24\"\n",
              "       width=\"24px\">\n",
              "    <path d=\"M0 0h24v24H0V0z\" fill=\"none\"/>\n",
              "    <path d=\"M18.56 5.44l.94 2.06.94-2.06 2.06-.94-2.06-.94-.94-2.06-.94 2.06-2.06.94zm-11 1L8.5 8.5l.94-2.06 2.06-.94-2.06-.94L8.5 2.5l-.94 2.06-2.06.94zm10 10l.94 2.06.94-2.06 2.06-.94-2.06-.94-.94-2.06-.94 2.06-2.06.94z\"/><path d=\"M17.41 7.96l-1.37-1.37c-.4-.4-.92-.59-1.43-.59-.52 0-1.04.2-1.43.59L10.3 9.45l-7.72 7.72c-.78.78-.78 2.05 0 2.83L4 21.41c.39.39.9.59 1.41.59.51 0 1.02-.2 1.41-.59l7.78-7.78 2.81-2.81c.8-.78.8-2.07 0-2.86zM5.41 20L4 18.59l7.72-7.72 1.47 1.35L5.41 20z\"/>\n",
              "  </svg>\n",
              "      </button>\n",
              "      \n",
              "  <style>\n",
              "    .colab-df-container {\n",
              "      display:flex;\n",
              "      flex-wrap:wrap;\n",
              "      gap: 12px;\n",
              "    }\n",
              "\n",
              "    .colab-df-convert {\n",
              "      background-color: #E8F0FE;\n",
              "      border: none;\n",
              "      border-radius: 50%;\n",
              "      cursor: pointer;\n",
              "      display: none;\n",
              "      fill: #1967D2;\n",
              "      height: 32px;\n",
              "      padding: 0 0 0 0;\n",
              "      width: 32px;\n",
              "    }\n",
              "\n",
              "    .colab-df-convert:hover {\n",
              "      background-color: #E2EBFA;\n",
              "      box-shadow: 0px 1px 2px rgba(60, 64, 67, 0.3), 0px 1px 3px 1px rgba(60, 64, 67, 0.15);\n",
              "      fill: #174EA6;\n",
              "    }\n",
              "\n",
              "    [theme=dark] .colab-df-convert {\n",
              "      background-color: #3B4455;\n",
              "      fill: #D2E3FC;\n",
              "    }\n",
              "\n",
              "    [theme=dark] .colab-df-convert:hover {\n",
              "      background-color: #434B5C;\n",
              "      box-shadow: 0px 1px 3px 1px rgba(0, 0, 0, 0.15);\n",
              "      filter: drop-shadow(0px 1px 2px rgba(0, 0, 0, 0.3));\n",
              "      fill: #FFFFFF;\n",
              "    }\n",
              "  </style>\n",
              "\n",
              "      <script>\n",
              "        const buttonEl =\n",
              "          document.querySelector('#df-ce386285-6f9c-40a1-bbd8-d9cbb6fb1f0d button.colab-df-convert');\n",
              "        buttonEl.style.display =\n",
              "          google.colab.kernel.accessAllowed ? 'block' : 'none';\n",
              "\n",
              "        async function convertToInteractive(key) {\n",
              "          const element = document.querySelector('#df-ce386285-6f9c-40a1-bbd8-d9cbb6fb1f0d');\n",
              "          const dataTable =\n",
              "            await google.colab.kernel.invokeFunction('convertToInteractive',\n",
              "                                                     [key], {});\n",
              "          if (!dataTable) return;\n",
              "\n",
              "          const docLinkHtml = 'Like what you see? Visit the ' +\n",
              "            '<a target=\"_blank\" href=https://colab.research.google.com/notebooks/data_table.ipynb>data table notebook</a>'\n",
              "            + ' to learn more about interactive tables.';\n",
              "          element.innerHTML = '';\n",
              "          dataTable['output_type'] = 'display_data';\n",
              "          await google.colab.output.renderOutput(dataTable, element);\n",
              "          const docLink = document.createElement('div');\n",
              "          docLink.innerHTML = docLinkHtml;\n",
              "          element.appendChild(docLink);\n",
              "        }\n",
              "      </script>\n",
              "    </div>\n",
              "  </div>\n",
              "  "
            ]
          },
          "metadata": {},
          "execution_count": 51
        }
      ]
    },
    {
      "cell_type": "code",
      "metadata": {
        "colab": {
          "base_uri": "https://localhost:8080/",
          "height": 363
        },
        "id": "PS_utiAT0Ox5",
        "outputId": "dc6f354a-30c4-4876-d83a-3673e7a407c0"
      },
      "source": [
        "#Creating new dataframe with article and label attributes \n",
        "df_news = news[['article',  'label']]\n",
        "\n",
        "df_news.head(10)"
      ],
      "execution_count": null,
      "outputs": [
        {
          "output_type": "execute_result",
          "data": {
            "text/plain": [
              "                                             article label\n",
              "0  You Can Smell Hillary’s Fear Daniel Greenfield...  FAKE\n",
              "1  Watch The Exact Moment Paul Ryan Committed Pol...  FAKE\n",
              "2  Kerry to go to Paris in gesture of sympathy U....  REAL\n",
              "3  Bernie supporters on Twitter erupt in anger ag...  FAKE\n",
              "4  The Battle of New York: Why This Primary Matte...  REAL\n",
              "5  Tehran, USA   \\nI’m not an immigrant, but my g...  FAKE\n",
              "6  Girl Horrified At What She Watches Boyfriend D...  FAKE\n",
              "7  ‘Britain’s Schindler’ Dies at 106 A Czech stoc...  REAL\n",
              "8  Fact check: Trump and Clinton at the 'commande...  REAL\n",
              "9  Iran reportedly makes new push for uranium con...  REAL"
            ],
            "text/html": [
              "\n",
              "  <div id=\"df-8dc859a0-8251-48b8-a4d7-6dd0e468d003\">\n",
              "    <div class=\"colab-df-container\">\n",
              "      <div>\n",
              "<style scoped>\n",
              "    .dataframe tbody tr th:only-of-type {\n",
              "        vertical-align: middle;\n",
              "    }\n",
              "\n",
              "    .dataframe tbody tr th {\n",
              "        vertical-align: top;\n",
              "    }\n",
              "\n",
              "    .dataframe thead th {\n",
              "        text-align: right;\n",
              "    }\n",
              "</style>\n",
              "<table border=\"1\" class=\"dataframe\">\n",
              "  <thead>\n",
              "    <tr style=\"text-align: right;\">\n",
              "      <th></th>\n",
              "      <th>article</th>\n",
              "      <th>label</th>\n",
              "    </tr>\n",
              "  </thead>\n",
              "  <tbody>\n",
              "    <tr>\n",
              "      <th>0</th>\n",
              "      <td>You Can Smell Hillary’s Fear Daniel Greenfield...</td>\n",
              "      <td>FAKE</td>\n",
              "    </tr>\n",
              "    <tr>\n",
              "      <th>1</th>\n",
              "      <td>Watch The Exact Moment Paul Ryan Committed Pol...</td>\n",
              "      <td>FAKE</td>\n",
              "    </tr>\n",
              "    <tr>\n",
              "      <th>2</th>\n",
              "      <td>Kerry to go to Paris in gesture of sympathy U....</td>\n",
              "      <td>REAL</td>\n",
              "    </tr>\n",
              "    <tr>\n",
              "      <th>3</th>\n",
              "      <td>Bernie supporters on Twitter erupt in anger ag...</td>\n",
              "      <td>FAKE</td>\n",
              "    </tr>\n",
              "    <tr>\n",
              "      <th>4</th>\n",
              "      <td>The Battle of New York: Why This Primary Matte...</td>\n",
              "      <td>REAL</td>\n",
              "    </tr>\n",
              "    <tr>\n",
              "      <th>5</th>\n",
              "      <td>Tehran, USA   \\nI’m not an immigrant, but my g...</td>\n",
              "      <td>FAKE</td>\n",
              "    </tr>\n",
              "    <tr>\n",
              "      <th>6</th>\n",
              "      <td>Girl Horrified At What She Watches Boyfriend D...</td>\n",
              "      <td>FAKE</td>\n",
              "    </tr>\n",
              "    <tr>\n",
              "      <th>7</th>\n",
              "      <td>‘Britain’s Schindler’ Dies at 106 A Czech stoc...</td>\n",
              "      <td>REAL</td>\n",
              "    </tr>\n",
              "    <tr>\n",
              "      <th>8</th>\n",
              "      <td>Fact check: Trump and Clinton at the 'commande...</td>\n",
              "      <td>REAL</td>\n",
              "    </tr>\n",
              "    <tr>\n",
              "      <th>9</th>\n",
              "      <td>Iran reportedly makes new push for uranium con...</td>\n",
              "      <td>REAL</td>\n",
              "    </tr>\n",
              "  </tbody>\n",
              "</table>\n",
              "</div>\n",
              "      <button class=\"colab-df-convert\" onclick=\"convertToInteractive('df-8dc859a0-8251-48b8-a4d7-6dd0e468d003')\"\n",
              "              title=\"Convert this dataframe to an interactive table.\"\n",
              "              style=\"display:none;\">\n",
              "        \n",
              "  <svg xmlns=\"http://www.w3.org/2000/svg\" height=\"24px\"viewBox=\"0 0 24 24\"\n",
              "       width=\"24px\">\n",
              "    <path d=\"M0 0h24v24H0V0z\" fill=\"none\"/>\n",
              "    <path d=\"M18.56 5.44l.94 2.06.94-2.06 2.06-.94-2.06-.94-.94-2.06-.94 2.06-2.06.94zm-11 1L8.5 8.5l.94-2.06 2.06-.94-2.06-.94L8.5 2.5l-.94 2.06-2.06.94zm10 10l.94 2.06.94-2.06 2.06-.94-2.06-.94-.94-2.06-.94 2.06-2.06.94z\"/><path d=\"M17.41 7.96l-1.37-1.37c-.4-.4-.92-.59-1.43-.59-.52 0-1.04.2-1.43.59L10.3 9.45l-7.72 7.72c-.78.78-.78 2.05 0 2.83L4 21.41c.39.39.9.59 1.41.59.51 0 1.02-.2 1.41-.59l7.78-7.78 2.81-2.81c.8-.78.8-2.07 0-2.86zM5.41 20L4 18.59l7.72-7.72 1.47 1.35L5.41 20z\"/>\n",
              "  </svg>\n",
              "      </button>\n",
              "      \n",
              "  <style>\n",
              "    .colab-df-container {\n",
              "      display:flex;\n",
              "      flex-wrap:wrap;\n",
              "      gap: 12px;\n",
              "    }\n",
              "\n",
              "    .colab-df-convert {\n",
              "      background-color: #E8F0FE;\n",
              "      border: none;\n",
              "      border-radius: 50%;\n",
              "      cursor: pointer;\n",
              "      display: none;\n",
              "      fill: #1967D2;\n",
              "      height: 32px;\n",
              "      padding: 0 0 0 0;\n",
              "      width: 32px;\n",
              "    }\n",
              "\n",
              "    .colab-df-convert:hover {\n",
              "      background-color: #E2EBFA;\n",
              "      box-shadow: 0px 1px 2px rgba(60, 64, 67, 0.3), 0px 1px 3px 1px rgba(60, 64, 67, 0.15);\n",
              "      fill: #174EA6;\n",
              "    }\n",
              "\n",
              "    [theme=dark] .colab-df-convert {\n",
              "      background-color: #3B4455;\n",
              "      fill: #D2E3FC;\n",
              "    }\n",
              "\n",
              "    [theme=dark] .colab-df-convert:hover {\n",
              "      background-color: #434B5C;\n",
              "      box-shadow: 0px 1px 3px 1px rgba(0, 0, 0, 0.15);\n",
              "      filter: drop-shadow(0px 1px 2px rgba(0, 0, 0, 0.3));\n",
              "      fill: #FFFFFF;\n",
              "    }\n",
              "  </style>\n",
              "\n",
              "      <script>\n",
              "        const buttonEl =\n",
              "          document.querySelector('#df-8dc859a0-8251-48b8-a4d7-6dd0e468d003 button.colab-df-convert');\n",
              "        buttonEl.style.display =\n",
              "          google.colab.kernel.accessAllowed ? 'block' : 'none';\n",
              "\n",
              "        async function convertToInteractive(key) {\n",
              "          const element = document.querySelector('#df-8dc859a0-8251-48b8-a4d7-6dd0e468d003');\n",
              "          const dataTable =\n",
              "            await google.colab.kernel.invokeFunction('convertToInteractive',\n",
              "                                                     [key], {});\n",
              "          if (!dataTable) return;\n",
              "\n",
              "          const docLinkHtml = 'Like what you see? Visit the ' +\n",
              "            '<a target=\"_blank\" href=https://colab.research.google.com/notebooks/data_table.ipynb>data table notebook</a>'\n",
              "            + ' to learn more about interactive tables.';\n",
              "          element.innerHTML = '';\n",
              "          dataTable['output_type'] = 'display_data';\n",
              "          await google.colab.output.renderOutput(dataTable, element);\n",
              "          const docLink = document.createElement('div');\n",
              "          docLink.innerHTML = docLinkHtml;\n",
              "          element.appendChild(docLink);\n",
              "        }\n",
              "      </script>\n",
              "    </div>\n",
              "  </div>\n",
              "  "
            ]
          },
          "metadata": {},
          "execution_count": 52
        }
      ]
    },
    {
      "cell_type": "code",
      "metadata": {
        "colab": {
          "base_uri": "https://localhost:8080/"
        },
        "id": "NvZTHJ6kEOIw",
        "outputId": "cd5b9144-252c-4ac0-e541-3885459d6e79"
      },
      "source": [
        "#Get the new number of labels/categories of the data\n",
        "df_news['label'].value_counts()"
      ],
      "execution_count": null,
      "outputs": [
        {
          "output_type": "execute_result",
          "data": {
            "text/plain": [
              "REAL    3154\n",
              "FAKE    3152\n",
              "Name: label, dtype: int64"
            ]
          },
          "metadata": {},
          "execution_count": 53
        }
      ]
    },
    {
      "cell_type": "code",
      "metadata": {
        "colab": {
          "base_uri": "https://localhost:8080/",
          "height": 265
        },
        "id": "0tZ4F0ByEUcd",
        "outputId": "ffc8365d-e07a-431d-bb9a-fc2b139ec02e"
      },
      "source": [
        "#Visualise the data based on label\n",
        "sns.barplot(x=df_news['label'].value_counts().index,y=df_news['label'].value_counts().values,data=df_news)\n",
        "plt.show()"
      ],
      "execution_count": null,
      "outputs": [
        {
          "output_type": "display_data",
          "data": {
            "text/plain": [
              "<Figure size 432x288 with 1 Axes>"
            ],
            "image/png": "[encoded data removed]"
          },
          "metadata": {
            "needs_background": "light"
          }
        }
      ]
    },
    {
      "cell_type": "markdown",
      "metadata": {
        "id": "XCOq6z0GCzYa"
      },
      "source": [
        "Do the preprocessing step for text data.\n",
        "\n",
        "1) Lower Case"
      ]
    },
    {
      "cell_type": "code",
      "metadata": {
        "colab": {
          "base_uri": "https://localhost:8080/"
        },
        "id": "oX5W-8220uIF",
        "outputId": "9035e842-eac3-49ce-fb8b-c0d2f49c22a3"
      },
      "source": [
        "#Converting to lower case\n",
        "df_news['article_lowercase'] = df_news['article'].apply(lambda x: x.lower())"
      ],
      "execution_count": null,
      "outputs": [
        {
          "output_type": "stream",
          "name": "stderr",
          "text": [
            "/usr/local/lib/python3.7/dist-packages/ipykernel_launcher.py:2: SettingWithCopyWarning: \n",
            "A value is trying to be set on a copy of a slice from a DataFrame.\n",
            "Try using .loc[row_indexer,col_indexer] = value instead\n",
            "\n",
            "See the caveats in the documentation: https://pandas.pydata.org/pandas-docs/stable/user_guide/indexing.html#returning-a-view-versus-a-copy\n",
            "  \n"
          ]
        }
      ]
    },
    {
      "cell_type": "code",
      "metadata": {
        "colab": {
          "base_uri": "https://localhost:8080/",
          "height": 423
        },
        "id": "qSaetxtC09cZ",
        "outputId": "640ccb62-b68d-4545-ef76-7dd0780f2430"
      },
      "source": [
        "#Checking the data by displaying it and compare the result\n",
        "df_news"
      ],
      "execution_count": null,
      "outputs": [
        {
          "output_type": "execute_result",
          "data": {
            "text/plain": [
              "                                                article label  \\\n",
              "0     You Can Smell Hillary’s Fear Daniel Greenfield...  FAKE   \n",
              "1     Watch The Exact Moment Paul Ryan Committed Pol...  FAKE   \n",
              "2     Kerry to go to Paris in gesture of sympathy U....  REAL   \n",
              "3     Bernie supporters on Twitter erupt in anger ag...  FAKE   \n",
              "4     The Battle of New York: Why This Primary Matte...  REAL   \n",
              "...                                                 ...   ...   \n",
              "6330  State Department says it can't find emails fro...  REAL   \n",
              "6331  The ‘P’ in PBS Should Stand for ‘Plutocratic’ ...  FAKE   \n",
              "6332  Anti-Trump Protesters Are Tools of the Oligarc...  FAKE   \n",
              "6333  In Ethiopia, Obama seeks progress on peace, se...  REAL   \n",
              "6334  Jeb Bush Is Suddenly Attacking Trump. Here's W...  REAL   \n",
              "\n",
              "                                      article_lowercase  \n",
              "0     you can smell hillary’s fear daniel greenfield...  \n",
              "1     watch the exact moment paul ryan committed pol...  \n",
              "2     kerry to go to paris in gesture of sympathy u....  \n",
              "3     bernie supporters on twitter erupt in anger ag...  \n",
              "4     the battle of new york: why this primary matte...  \n",
              "...                                                 ...  \n",
              "6330  state department says it can't find emails fro...  \n",
              "6331  the ‘p’ in pbs should stand for ‘plutocratic’ ...  \n",
              "6332  anti-trump protesters are tools of the oligarc...  \n",
              "6333  in ethiopia, obama seeks progress on peace, se...  \n",
              "6334  jeb bush is suddenly attacking trump. here's w...  \n",
              "\n",
              "[6306 rows x 3 columns]"
            ],
            "text/html": [
              "\n",
              "  <div id=\"df-14dd6d03-aef5-49d7-a2ce-32280cc7e4f2\">\n",
              "    <div class=\"colab-df-container\">\n",
              "      <div>\n",
              "<style scoped>\n",
              "    .dataframe tbody tr th:only-of-type {\n",
              "        vertical-align: middle;\n",
              "    }\n",
              "\n",
              "    .dataframe tbody tr th {\n",
              "        vertical-align: top;\n",
              "    }\n",
              "\n",
              "    .dataframe thead th {\n",
              "        text-align: right;\n",
              "    }\n",
              "</style>\n",
              "<table border=\"1\" class=\"dataframe\">\n",
              "  <thead>\n",
              "    <tr style=\"text-align: right;\">\n",
              "      <th></th>\n",
              "      <th>article</th>\n",
              "      <th>label</th>\n",
              "      <th>article_lowercase</th>\n",
              "    </tr>\n",
              "  </thead>\n",
              "  <tbody>\n",
              "    <tr>\n",
              "      <th>0</th>\n",
              "      <td>You Can Smell Hillary’s Fear Daniel Greenfield...</td>\n",
              "      <td>FAKE</td>\n",
              "      <td>you can smell hillary’s fear daniel greenfield...</td>\n",
              "    </tr>\n",
              "    <tr>\n",
              "      <th>1</th>\n",
              "      <td>Watch The Exact Moment Paul Ryan Committed Pol...</td>\n",
              "      <td>FAKE</td>\n",
              "      <td>watch the exact moment paul ryan committed pol...</td>\n",
              "    </tr>\n",
              "    <tr>\n",
              "      <th>2</th>\n",
              "      <td>Kerry to go to Paris in gesture of sympathy U....</td>\n",
              "      <td>REAL</td>\n",
              "      <td>kerry to go to paris in gesture of sympathy u....</td>\n",
              "    </tr>\n",
              "    <tr>\n",
              "      <th>3</th>\n",
              "      <td>Bernie supporters on Twitter erupt in anger ag...</td>\n",
              "      <td>FAKE</td>\n",
              "      <td>bernie supporters on twitter erupt in anger ag...</td>\n",
              "    </tr>\n",
              "    <tr>\n",
              "      <th>4</th>\n",
              "      <td>The Battle of New York: Why This Primary Matte...</td>\n",
              "      <td>REAL</td>\n",
              "      <td>the battle of new york: why this primary matte...</td>\n",
              "    </tr>\n",
              "    <tr>\n",
              "      <th>...</th>\n",
              "      <td>...</td>\n",
              "      <td>...</td>\n",
              "      <td>...</td>\n",
              "    </tr>\n",
              "    <tr>\n",
              "      <th>6330</th>\n",
              "      <td>State Department says it can't find emails fro...</td>\n",
              "      <td>REAL</td>\n",
              "      <td>state department says it can't find emails fro...</td>\n",
              "    </tr>\n",
              "    <tr>\n",
              "      <th>6331</th>\n",
              "      <td>The ‘P’ in PBS Should Stand for ‘Plutocratic’ ...</td>\n",
              "      <td>FAKE</td>\n",
              "      <td>the ‘p’ in pbs should stand for ‘plutocratic’ ...</td>\n",
              "    </tr>\n",
              "    <tr>\n",
              "      <th>6332</th>\n",
              "      <td>Anti-Trump Protesters Are Tools of the Oligarc...</td>\n",
              "      <td>FAKE</td>\n",
              "      <td>anti-trump protesters are tools of the oligarc...</td>\n",
              "    </tr>\n",
              "    <tr>\n",
              "      <th>6333</th>\n",
              "      <td>In Ethiopia, Obama seeks progress on peace, se...</td>\n",
              "      <td>REAL</td>\n",
              "      <td>in ethiopia, obama seeks progress on peace, se...</td>\n",
              "    </tr>\n",
              "    <tr>\n",
              "      <th>6334</th>\n",
              "      <td>Jeb Bush Is Suddenly Attacking Trump. Here's W...</td>\n",
              "      <td>REAL</td>\n",
              "      <td>jeb bush is suddenly attacking trump. here's w...</td>\n",
              "    </tr>\n",
              "  </tbody>\n",
              "</table>\n",
              "<p>6306 rows × 3 columns</p>\n",
              "</div>\n",
              "      <button class=\"colab-df-convert\" onclick=\"convertToInteractive('df-14dd6d03-aef5-49d7-a2ce-32280cc7e4f2')\"\n",
              "              title=\"Convert this dataframe to an interactive table.\"\n",
              "              style=\"display:none;\">\n",
              "        \n",
              "  <svg xmlns=\"http://www.w3.org/2000/svg\" height=\"24px\"viewBox=\"0 0 24 24\"\n",
              "       width=\"24px\">\n",
              "    <path d=\"M0 0h24v24H0V0z\" fill=\"none\"/>\n",
              "    <path d=\"M18.56 5.44l.94 2.06.94-2.06 2.06-.94-2.06-.94-.94-2.06-.94 2.06-2.06.94zm-11 1L8.5 8.5l.94-2.06 2.06-.94-2.06-.94L8.5 2.5l-.94 2.06-2.06.94zm10 10l.94 2.06.94-2.06 2.06-.94-2.06-.94-.94-2.06-.94 2.06-2.06.94z\"/><path d=\"M17.41 7.96l-1.37-1.37c-.4-.4-.92-.59-1.43-.59-.52 0-1.04.2-1.43.59L10.3 9.45l-7.72 7.72c-.78.78-.78 2.05 0 2.83L4 21.41c.39.39.9.59 1.41.59.51 0 1.02-.2 1.41-.59l7.78-7.78 2.81-2.81c.8-.78.8-2.07 0-2.86zM5.41 20L4 18.59l7.72-7.72 1.47 1.35L5.41 20z\"/>\n",
              "  </svg>\n",
              "      </button>\n",
              "      \n",
              "  <style>\n",
              "    .colab-df-container {\n",
              "      display:flex;\n",
              "      flex-wrap:wrap;\n",
              "      gap: 12px;\n",
              "    }\n",
              "\n",
              "    .colab-df-convert {\n",
              "      background-color: #E8F0FE;\n",
              "      border: none;\n",
              "      border-radius: 50%;\n",
              "      cursor: pointer;\n",
              "      display: none;\n",
              "      fill: #1967D2;\n",
              "      height: 32px;\n",
              "      padding: 0 0 0 0;\n",
              "      width: 32px;\n",
              "    }\n",
              "\n",
              "    .colab-df-convert:hover {\n",
              "      background-color: #E2EBFA;\n",
              "      box-shadow: 0px 1px 2px rgba(60, 64, 67, 0.3), 0px 1px 3px 1px rgba(60, 64, 67, 0.15);\n",
              "      fill: #174EA6;\n",
              "    }\n",
              "\n",
              "    [theme=dark] .colab-df-convert {\n",
              "      background-color: #3B4455;\n",
              "      fill: #D2E3FC;\n",
              "    }\n",
              "\n",
              "    [theme=dark] .colab-df-convert:hover {\n",
              "      background-color: #434B5C;\n",
              "      box-shadow: 0px 1px 3px 1px rgba(0, 0, 0, 0.15);\n",
              "      filter: drop-shadow(0px 1px 2px rgba(0, 0, 0, 0.3));\n",
              "      fill: #FFFFFF;\n",
              "    }\n",
              "  </style>\n",
              "\n",
              "      <script>\n",
              "        const buttonEl =\n",
              "          document.querySelector('#df-14dd6d03-aef5-49d7-a2ce-32280cc7e4f2 button.colab-df-convert');\n",
              "        buttonEl.style.display =\n",
              "          google.colab.kernel.accessAllowed ? 'block' : 'none';\n",
              "\n",
              "        async function convertToInteractive(key) {\n",
              "          const element = document.querySelector('#df-14dd6d03-aef5-49d7-a2ce-32280cc7e4f2');\n",
              "          const dataTable =\n",
              "            await google.colab.kernel.invokeFunction('convertToInteractive',\n",
              "                                                     [key], {});\n",
              "          if (!dataTable) return;\n",
              "\n",
              "          const docLinkHtml = 'Like what you see? Visit the ' +\n",
              "            '<a target=\"_blank\" href=https://colab.research.google.com/notebooks/data_table.ipynb>data table notebook</a>'\n",
              "            + ' to learn more about interactive tables.';\n",
              "          element.innerHTML = '';\n",
              "          dataTable['output_type'] = 'display_data';\n",
              "          await google.colab.output.renderOutput(dataTable, element);\n",
              "          const docLink = document.createElement('div');\n",
              "          docLink.innerHTML = docLinkHtml;\n",
              "          element.appendChild(docLink);\n",
              "        }\n",
              "      </script>\n",
              "    </div>\n",
              "  </div>\n",
              "  "
            ]
          },
          "metadata": {},
          "execution_count": 56
        }
      ]
    },
    {
      "cell_type": "markdown",
      "metadata": {
        "id": "IHjEtDDD_9Fl"
      },
      "source": [
        "2) Remove punctuation"
      ]
    },
    {
      "cell_type": "code",
      "metadata": {
        "id": "QqASXn-B1uQw"
      },
      "source": [
        "#Remove punctuation\n",
        "#Import required library\n",
        "import string\n",
        "\n",
        "#Define the function\n",
        "def punctuation_removal(messy_str):\n",
        "    clean_list = [char for char in messy_str if char not in string.punctuation]\n",
        "    clean_str = ''.join(clean_list)\n",
        "    return clean_str"
      ],
      "execution_count": null,
      "outputs": []
    },
    {
      "cell_type": "code",
      "metadata": {
        "colab": {
          "base_uri": "https://localhost:8080/",
          "height": 528
        },
        "id": "xU5ZwZ0k28qL",
        "outputId": "6ee4f6bb-80d3-4924-fe6c-da94fe7f61e7"
      },
      "source": [
        "#Apply the function\n",
        "df_news['article_punc'] = df_news['article_lowercase'].apply(punctuation_removal)\n",
        "\n",
        "#Check the data by displaying it and compare the result\n",
        "df_news"
      ],
      "execution_count": null,
      "outputs": [
        {
          "output_type": "stream",
          "name": "stderr",
          "text": [
            "/usr/local/lib/python3.7/dist-packages/ipykernel_launcher.py:2: SettingWithCopyWarning: \n",
            "A value is trying to be set on a copy of a slice from a DataFrame.\n",
            "Try using .loc[row_indexer,col_indexer] = value instead\n",
            "\n",
            "See the caveats in the documentation: https://pandas.pydata.org/pandas-docs/stable/user_guide/indexing.html#returning-a-view-versus-a-copy\n",
            "  \n"
          ]
        },
        {
          "output_type": "execute_result",
          "data": {
            "text/plain": [
              "                                                article label  \\\n",
              "0     You Can Smell Hillary’s Fear Daniel Greenfield...  FAKE   \n",
              "1     Watch The Exact Moment Paul Ryan Committed Pol...  FAKE   \n",
              "2     Kerry to go to Paris in gesture of sympathy U....  REAL   \n",
              "3     Bernie supporters on Twitter erupt in anger ag...  FAKE   \n",
              "4     The Battle of New York: Why This Primary Matte...  REAL   \n",
              "...                                                 ...   ...   \n",
              "6330  State Department says it can't find emails fro...  REAL   \n",
              "6331  The ‘P’ in PBS Should Stand for ‘Plutocratic’ ...  FAKE   \n",
              "6332  Anti-Trump Protesters Are Tools of the Oligarc...  FAKE   \n",
              "6333  In Ethiopia, Obama seeks progress on peace, se...  REAL   \n",
              "6334  Jeb Bush Is Suddenly Attacking Trump. Here's W...  REAL   \n",
              "\n",
              "                                      article_lowercase  \\\n",
              "0     you can smell hillary’s fear daniel greenfield...   \n",
              "1     watch the exact moment paul ryan committed pol...   \n",
              "2     kerry to go to paris in gesture of sympathy u....   \n",
              "3     bernie supporters on twitter erupt in anger ag...   \n",
              "4     the battle of new york: why this primary matte...   \n",
              "...                                                 ...   \n",
              "6330  state department says it can't find emails fro...   \n",
              "6331  the ‘p’ in pbs should stand for ‘plutocratic’ ...   \n",
              "6332  anti-trump protesters are tools of the oligarc...   \n",
              "6333  in ethiopia, obama seeks progress on peace, se...   \n",
              "6334  jeb bush is suddenly attacking trump. here's w...   \n",
              "\n",
              "                                           article_punc  \n",
              "0     you can smell hillary’s fear daniel greenfield...  \n",
              "1     watch the exact moment paul ryan committed pol...  \n",
              "2     kerry to go to paris in gesture of sympathy us...  \n",
              "3     bernie supporters on twitter erupt in anger ag...  \n",
              "4     the battle of new york why this primary matter...  \n",
              "...                                                 ...  \n",
              "6330  state department says it cant find emails from...  \n",
              "6331  the ‘p’ in pbs should stand for ‘plutocratic’ ...  \n",
              "6332  antitrump protesters are tools of the oligarch...  \n",
              "6333  in ethiopia obama seeks progress on peace secu...  \n",
              "6334  jeb bush is suddenly attacking trump heres why...  \n",
              "\n",
              "[6306 rows x 4 columns]"
            ],
            "text/html": [
              "\n",
              "  <div id=\"df-7a99b51b-6b78-401f-a9ad-14ef1d21fc7e\">\n",
              "    <div class=\"colab-df-container\">\n",
              "      <div>\n",
              "<style scoped>\n",
              "    .dataframe tbody tr th:only-of-type {\n",
              "        vertical-align: middle;\n",
              "    }\n",
              "\n",
              "    .dataframe tbody tr th {\n",
              "        vertical-align: top;\n",
              "    }\n",
              "\n",
              "    .dataframe thead th {\n",
              "        text-align: right;\n",
              "    }\n",
              "</style>\n",
              "<table border=\"1\" class=\"dataframe\">\n",
              "  <thead>\n",
              "    <tr style=\"text-align: right;\">\n",
              "      <th></th>\n",
              "      <th>article</th>\n",
              "      <th>label</th>\n",
              "      <th>article_lowercase</th>\n",
              "      <th>article_punc</th>\n",
              "    </tr>\n",
              "  </thead>\n",
              "  <tbody>\n",
              "    <tr>\n",
              "      <th>0</th>\n",
              "      <td>You Can Smell Hillary’s Fear Daniel Greenfield...</td>\n",
              "      <td>FAKE</td>\n",
              "      <td>you can smell hillary’s fear daniel greenfield...</td>\n",
              "      <td>you can smell hillary’s fear daniel greenfield...</td>\n",
              "    </tr>\n",
              "    <tr>\n",
              "      <th>1</th>\n",
              "      <td>Watch The Exact Moment Paul Ryan Committed Pol...</td>\n",
              "      <td>FAKE</td>\n",
              "      <td>watch the exact moment paul ryan committed pol...</td>\n",
              "      <td>watch the exact moment paul ryan committed pol...</td>\n",
              "    </tr>\n",
              "    <tr>\n",
              "      <th>2</th>\n",
              "      <td>Kerry to go to Paris in gesture of sympathy U....</td>\n",
              "      <td>REAL</td>\n",
              "      <td>kerry to go to paris in gesture of sympathy u....</td>\n",
              "      <td>kerry to go to paris in gesture of sympathy us...</td>\n",
              "    </tr>\n",
              "    <tr>\n",
              "      <th>3</th>\n",
              "      <td>Bernie supporters on Twitter erupt in anger ag...</td>\n",
              "      <td>FAKE</td>\n",
              "      <td>bernie supporters on twitter erupt in anger ag...</td>\n",
              "      <td>bernie supporters on twitter erupt in anger ag...</td>\n",
              "    </tr>\n",
              "    <tr>\n",
              "      <th>4</th>\n",
              "      <td>The Battle of New York: Why This Primary Matte...</td>\n",
              "      <td>REAL</td>\n",
              "      <td>the battle of new york: why this primary matte...</td>\n",
              "      <td>the battle of new york why this primary matter...</td>\n",
              "    </tr>\n",
              "    <tr>\n",
              "      <th>...</th>\n",
              "      <td>...</td>\n",
              "      <td>...</td>\n",
              "      <td>...</td>\n",
              "      <td>...</td>\n",
              "    </tr>\n",
              "    <tr>\n",
              "      <th>6330</th>\n",
              "      <td>State Department says it can't find emails fro...</td>\n",
              "      <td>REAL</td>\n",
              "      <td>state department says it can't find emails fro...</td>\n",
              "      <td>state department says it cant find emails from...</td>\n",
              "    </tr>\n",
              "    <tr>\n",
              "      <th>6331</th>\n",
              "      <td>The ‘P’ in PBS Should Stand for ‘Plutocratic’ ...</td>\n",
              "      <td>FAKE</td>\n",
              "      <td>the ‘p’ in pbs should stand for ‘plutocratic’ ...</td>\n",
              "      <td>the ‘p’ in pbs should stand for ‘plutocratic’ ...</td>\n",
              "    </tr>\n",
              "    <tr>\n",
              "      <th>6332</th>\n",
              "      <td>Anti-Trump Protesters Are Tools of the Oligarc...</td>\n",
              "      <td>FAKE</td>\n",
              "      <td>anti-trump protesters are tools of the oligarc...</td>\n",
              "      <td>antitrump protesters are tools of the oligarch...</td>\n",
              "    </tr>\n",
              "    <tr>\n",
              "      <th>6333</th>\n",
              "      <td>In Ethiopia, Obama seeks progress on peace, se...</td>\n",
              "      <td>REAL</td>\n",
              "      <td>in ethiopia, obama seeks progress on peace, se...</td>\n",
              "      <td>in ethiopia obama seeks progress on peace secu...</td>\n",
              "    </tr>\n",
              "    <tr>\n",
              "      <th>6334</th>\n",
              "      <td>Jeb Bush Is Suddenly Attacking Trump. Here's W...</td>\n",
              "      <td>REAL</td>\n",
              "      <td>jeb bush is suddenly attacking trump. here's w...</td>\n",
              "      <td>jeb bush is suddenly attacking trump heres why...</td>\n",
              "    </tr>\n",
              "  </tbody>\n",
              "</table>\n",
              "<p>6306 rows × 4 columns</p>\n",
              "</div>\n",
              "      <button class=\"colab-df-convert\" onclick=\"convertToInteractive('df-7a99b51b-6b78-401f-a9ad-14ef1d21fc7e')\"\n",
              "              title=\"Convert this dataframe to an interactive table.\"\n",
              "              style=\"display:none;\">\n",
              "        \n",
              "  <svg xmlns=\"http://www.w3.org/2000/svg\" height=\"24px\"viewBox=\"0 0 24 24\"\n",
              "       width=\"24px\">\n",
              "    <path d=\"M0 0h24v24H0V0z\" fill=\"none\"/>\n",
              "    <path d=\"M18.56 5.44l.94 2.06.94-2.06 2.06-.94-2.06-.94-.94-2.06-.94 2.06-2.06.94zm-11 1L8.5 8.5l.94-2.06 2.06-.94-2.06-.94L8.5 2.5l-.94 2.06-2.06.94zm10 10l.94 2.06.94-2.06 2.06-.94-2.06-.94-.94-2.06-.94 2.06-2.06.94z\"/><path d=\"M17.41 7.96l-1.37-1.37c-.4-.4-.92-.59-1.43-.59-.52 0-1.04.2-1.43.59L10.3 9.45l-7.72 7.72c-.78.78-.78 2.05 0 2.83L4 21.41c.39.39.9.59 1.41.59.51 0 1.02-.2 1.41-.59l7.78-7.78 2.81-2.81c.8-.78.8-2.07 0-2.86zM5.41 20L4 18.59l7.72-7.72 1.47 1.35L5.41 20z\"/>\n",
              "  </svg>\n",
              "      </button>\n",
              "      \n",
              "  <style>\n",
              "    .colab-df-container {\n",
              "      display:flex;\n",
              "      flex-wrap:wrap;\n",
              "      gap: 12px;\n",
              "    }\n",
              "\n",
              "    .colab-df-convert {\n",
              "      background-color: #E8F0FE;\n",
              "      border: none;\n",
              "      border-radius: 50%;\n",
              "      cursor: pointer;\n",
              "      display: none;\n",
              "      fill: #1967D2;\n",
              "      height: 32px;\n",
              "      padding: 0 0 0 0;\n",
              "      width: 32px;\n",
              "    }\n",
              "\n",
              "    .colab-df-convert:hover {\n",
              "      background-color: #E2EBFA;\n",
              "      box-shadow: 0px 1px 2px rgba(60, 64, 67, 0.3), 0px 1px 3px 1px rgba(60, 64, 67, 0.15);\n",
              "      fill: #174EA6;\n",
              "    }\n",
              "\n",
              "    [theme=dark] .colab-df-convert {\n",
              "      background-color: #3B4455;\n",
              "      fill: #D2E3FC;\n",
              "    }\n",
              "\n",
              "    [theme=dark] .colab-df-convert:hover {\n",
              "      background-color: #434B5C;\n",
              "      box-shadow: 0px 1px 3px 1px rgba(0, 0, 0, 0.15);\n",
              "      filter: drop-shadow(0px 1px 2px rgba(0, 0, 0, 0.3));\n",
              "      fill: #FFFFFF;\n",
              "    }\n",
              "  </style>\n",
              "\n",
              "      <script>\n",
              "        const buttonEl =\n",
              "          document.querySelector('#df-7a99b51b-6b78-401f-a9ad-14ef1d21fc7e button.colab-df-convert');\n",
              "        buttonEl.style.display =\n",
              "          google.colab.kernel.accessAllowed ? 'block' : 'none';\n",
              "\n",
              "        async function convertToInteractive(key) {\n",
              "          const element = document.querySelector('#df-7a99b51b-6b78-401f-a9ad-14ef1d21fc7e');\n",
              "          const dataTable =\n",
              "            await google.colab.kernel.invokeFunction('convertToInteractive',\n",
              "                                                     [key], {});\n",
              "          if (!dataTable) return;\n",
              "\n",
              "          const docLinkHtml = 'Like what you see? Visit the ' +\n",
              "            '<a target=\"_blank\" href=https://colab.research.google.com/notebooks/data_table.ipynb>data table notebook</a>'\n",
              "            + ' to learn more about interactive tables.';\n",
              "          element.innerHTML = '';\n",
              "          dataTable['output_type'] = 'display_data';\n",
              "          await google.colab.output.renderOutput(dataTable, element);\n",
              "          const docLink = document.createElement('div');\n",
              "          docLink.innerHTML = docLinkHtml;\n",
              "          element.appendChild(docLink);\n",
              "        }\n",
              "      </script>\n",
              "    </div>\n",
              "  </div>\n",
              "  "
            ]
          },
          "metadata": {},
          "execution_count": 58
        }
      ]
    },
    {
      "cell_type": "markdown",
      "metadata": {
        "id": "VXgf0__tAAQI"
      },
      "source": [
        "3) Remove stopwords"
      ]
    },
    {
      "cell_type": "code",
      "metadata": {
        "id": "IwYzL5Sc3dDP"
      },
      "source": [
        "#Removing stopwords\n",
        "#Import required library\n",
        "from gensim.parsing.preprocessing import remove_stopwords\n",
        "\n",
        "#Define the function\n",
        "def stopword_removal(row):\n",
        "    text = row['article_punc']\n",
        "    text = remove_stopwords(text)\n",
        "    return text"
      ],
      "execution_count": null,
      "outputs": []
    },
    {
      "cell_type": "code",
      "metadata": {
        "id": "UaEuiSHRG_MH"
      },
      "source": [
        "#Apply the function\n",
        "df_news['article_clean'] = df_news.apply(stopword_removal, axis=1)"
      ],
      "execution_count": null,
      "outputs": []
    },
    {
      "cell_type": "code",
      "metadata": {
        "colab": {
          "base_uri": "https://localhost:8080/",
          "height": 502
        },
        "id": "kM48oTiM36zt",
        "outputId": "b7dddea0-224e-42df-8219-814b4413f448"
      },
      "source": [
        "#Check the data by displaying it and compare the result\n",
        "df_news"
      ],
      "execution_count": null,
      "outputs": [
        {
          "output_type": "execute_result",
          "data": {
            "text/plain": [
              "                                                article label  \\\n",
              "0     You Can Smell Hillary’s Fear Daniel Greenfield...  FAKE   \n",
              "1     Watch The Exact Moment Paul Ryan Committed Pol...  FAKE   \n",
              "2     Kerry to go to Paris in gesture of sympathy U....  REAL   \n",
              "3     Bernie supporters on Twitter erupt in anger ag...  FAKE   \n",
              "4     The Battle of New York: Why This Primary Matte...  REAL   \n",
              "...                                                 ...   ...   \n",
              "6330  State Department says it can't find emails fro...  REAL   \n",
              "6331  The ‘P’ in PBS Should Stand for ‘Plutocratic’ ...  FAKE   \n",
              "6332  Anti-Trump Protesters Are Tools of the Oligarc...  FAKE   \n",
              "6333  In Ethiopia, Obama seeks progress on peace, se...  REAL   \n",
              "6334  Jeb Bush Is Suddenly Attacking Trump. Here's W...  REAL   \n",
              "\n",
              "                                      article_lowercase  \\\n",
              "0     you can smell hillary’s fear daniel greenfield...   \n",
              "1     watch the exact moment paul ryan committed pol...   \n",
              "2     kerry to go to paris in gesture of sympathy u....   \n",
              "3     bernie supporters on twitter erupt in anger ag...   \n",
              "4     the battle of new york: why this primary matte...   \n",
              "...                                                 ...   \n",
              "6330  state department says it can't find emails fro...   \n",
              "6331  the ‘p’ in pbs should stand for ‘plutocratic’ ...   \n",
              "6332  anti-trump protesters are tools of the oligarc...   \n",
              "6333  in ethiopia, obama seeks progress on peace, se...   \n",
              "6334  jeb bush is suddenly attacking trump. here's w...   \n",
              "\n",
              "                                           article_punc  \\\n",
              "0     you can smell hillary’s fear daniel greenfield...   \n",
              "1     watch the exact moment paul ryan committed pol...   \n",
              "2     kerry to go to paris in gesture of sympathy us...   \n",
              "3     bernie supporters on twitter erupt in anger ag...   \n",
              "4     the battle of new york why this primary matter...   \n",
              "...                                                 ...   \n",
              "6330  state department says it cant find emails from...   \n",
              "6331  the ‘p’ in pbs should stand for ‘plutocratic’ ...   \n",
              "6332  antitrump protesters are tools of the oligarch...   \n",
              "6333  in ethiopia obama seeks progress on peace secu...   \n",
              "6334  jeb bush is suddenly attacking trump heres why...   \n",
              "\n",
              "                                          article_clean  \n",
              "0     smell hillary’s fear daniel greenfield shillma...  \n",
              "1     watch exact moment paul ryan committed politic...  \n",
              "2     kerry paris gesture sympathy secretary state j...  \n",
              "3     bernie supporters twitter erupt anger dnc trie...  \n",
              "4     battle new york primary matters primary day ne...  \n",
              "...                                                 ...  \n",
              "6330  state department says emails clinton specialis...  \n",
              "6331  ‘p’ pbs stand ‘plutocratic’ ‘pentagon’ ‘p’ pbs...  \n",
              "6332  antitrump protesters tools oligarchy informati...  \n",
              "6333  ethiopia obama seeks progress peace security e...  \n",
              "6334  jeb bush suddenly attacking trump heres matter...  \n",
              "\n",
              "[6306 rows x 5 columns]"
            ],
            "text/html": [
              "\n",
              "  <div id=\"df-b1766e8c-e6d4-49f1-aef6-f761dbad5330\">\n",
              "    <div class=\"colab-df-container\">\n",
              "      <div>\n",
              "<style scoped>\n",
              "    .dataframe tbody tr th:only-of-type {\n",
              "        vertical-align: middle;\n",
              "    }\n",
              "\n",
              "    .dataframe tbody tr th {\n",
              "        vertical-align: top;\n",
              "    }\n",
              "\n",
              "    .dataframe thead th {\n",
              "        text-align: right;\n",
              "    }\n",
              "</style>\n",
              "<table border=\"1\" class=\"dataframe\">\n",
              "  <thead>\n",
              "    <tr style=\"text-align: right;\">\n",
              "      <th></th>\n",
              "      <th>article</th>\n",
              "      <th>label</th>\n",
              "      <th>article_lowercase</th>\n",
              "      <th>article_punc</th>\n",
              "      <th>article_clean</th>\n",
              "    </tr>\n",
              "  </thead>\n",
              "  <tbody>\n",
              "    <tr>\n",
              "      <th>0</th>\n",
              "      <td>You Can Smell Hillary’s Fear Daniel Greenfield...</td>\n",
              "      <td>FAKE</td>\n",
              "      <td>you can smell hillary’s fear daniel greenfield...</td>\n",
              "      <td>you can smell hillary’s fear daniel greenfield...</td>\n",
              "      <td>smell hillary’s fear daniel greenfield shillma...</td>\n",
              "    </tr>\n",
              "    <tr>\n",
              "      <th>1</th>\n",
              "      <td>Watch The Exact Moment Paul Ryan Committed Pol...</td>\n",
              "      <td>FAKE</td>\n",
              "      <td>watch the exact moment paul ryan committed pol...</td>\n",
              "      <td>watch the exact moment paul ryan committed pol...</td>\n",
              "      <td>watch exact moment paul ryan committed politic...</td>\n",
              "    </tr>\n",
              "    <tr>\n",
              "      <th>2</th>\n",
              "      <td>Kerry to go to Paris in gesture of sympathy U....</td>\n",
              "      <td>REAL</td>\n",
              "      <td>kerry to go to paris in gesture of sympathy u....</td>\n",
              "      <td>kerry to go to paris in gesture of sympathy us...</td>\n",
              "      <td>kerry paris gesture sympathy secretary state j...</td>\n",
              "    </tr>\n",
              "    <tr>\n",
              "      <th>3</th>\n",
              "      <td>Bernie supporters on Twitter erupt in anger ag...</td>\n",
              "      <td>FAKE</td>\n",
              "      <td>bernie supporters on twitter erupt in anger ag...</td>\n",
              "      <td>bernie supporters on twitter erupt in anger ag...</td>\n",
              "      <td>bernie supporters twitter erupt anger dnc trie...</td>\n",
              "    </tr>\n",
              "    <tr>\n",
              "      <th>4</th>\n",
              "      <td>The Battle of New York: Why This Primary Matte...</td>\n",
              "      <td>REAL</td>\n",
              "      <td>the battle of new york: why this primary matte...</td>\n",
              "      <td>the battle of new york why this primary matter...</td>\n",
              "      <td>battle new york primary matters primary day ne...</td>\n",
              "    </tr>\n",
              "    <tr>\n",
              "      <th>...</th>\n",
              "      <td>...</td>\n",
              "      <td>...</td>\n",
              "      <td>...</td>\n",
              "      <td>...</td>\n",
              "      <td>...</td>\n",
              "    </tr>\n",
              "    <tr>\n",
              "      <th>6330</th>\n",
              "      <td>State Department says it can't find emails fro...</td>\n",
              "      <td>REAL</td>\n",
              "      <td>state department says it can't find emails fro...</td>\n",
              "      <td>state department says it cant find emails from...</td>\n",
              "      <td>state department says emails clinton specialis...</td>\n",
              "    </tr>\n",
              "    <tr>\n",
              "      <th>6331</th>\n",
              "      <td>The ‘P’ in PBS Should Stand for ‘Plutocratic’ ...</td>\n",
              "      <td>FAKE</td>\n",
              "      <td>the ‘p’ in pbs should stand for ‘plutocratic’ ...</td>\n",
              "      <td>the ‘p’ in pbs should stand for ‘plutocratic’ ...</td>\n",
              "      <td>‘p’ pbs stand ‘plutocratic’ ‘pentagon’ ‘p’ pbs...</td>\n",
              "    </tr>\n",
              "    <tr>\n",
              "      <th>6332</th>\n",
              "      <td>Anti-Trump Protesters Are Tools of the Oligarc...</td>\n",
              "      <td>FAKE</td>\n",
              "      <td>anti-trump protesters are tools of the oligarc...</td>\n",
              "      <td>antitrump protesters are tools of the oligarch...</td>\n",
              "      <td>antitrump protesters tools oligarchy informati...</td>\n",
              "    </tr>\n",
              "    <tr>\n",
              "      <th>6333</th>\n",
              "      <td>In Ethiopia, Obama seeks progress on peace, se...</td>\n",
              "      <td>REAL</td>\n",
              "      <td>in ethiopia, obama seeks progress on peace, se...</td>\n",
              "      <td>in ethiopia obama seeks progress on peace secu...</td>\n",
              "      <td>ethiopia obama seeks progress peace security e...</td>\n",
              "    </tr>\n",
              "    <tr>\n",
              "      <th>6334</th>\n",
              "      <td>Jeb Bush Is Suddenly Attacking Trump. Here's W...</td>\n",
              "      <td>REAL</td>\n",
              "      <td>jeb bush is suddenly attacking trump. here's w...</td>\n",
              "      <td>jeb bush is suddenly attacking trump heres why...</td>\n",
              "      <td>jeb bush suddenly attacking trump heres matter...</td>\n",
              "    </tr>\n",
              "  </tbody>\n",
              "</table>\n",
              "<p>6306 rows × 5 columns</p>\n",
              "</div>\n",
              "      <button class=\"colab-df-convert\" onclick=\"convertToInteractive('df-b1766e8c-e6d4-49f1-aef6-f761dbad5330')\"\n",
              "              title=\"Convert this dataframe to an interactive table.\"\n",
              "              style=\"display:none;\">\n",
              "        \n",
              "  <svg xmlns=\"http://www.w3.org/2000/svg\" height=\"24px\"viewBox=\"0 0 24 24\"\n",
              "       width=\"24px\">\n",
              "    <path d=\"M0 0h24v24H0V0z\" fill=\"none\"/>\n",
              "    <path d=\"M18.56 5.44l.94 2.06.94-2.06 2.06-.94-2.06-.94-.94-2.06-.94 2.06-2.06.94zm-11 1L8.5 8.5l.94-2.06 2.06-.94-2.06-.94L8.5 2.5l-.94 2.06-2.06.94zm10 10l.94 2.06.94-2.06 2.06-.94-2.06-.94-.94-2.06-.94 2.06-2.06.94z\"/><path d=\"M17.41 7.96l-1.37-1.37c-.4-.4-.92-.59-1.43-.59-.52 0-1.04.2-1.43.59L10.3 9.45l-7.72 7.72c-.78.78-.78 2.05 0 2.83L4 21.41c.39.39.9.59 1.41.59.51 0 1.02-.2 1.41-.59l7.78-7.78 2.81-2.81c.8-.78.8-2.07 0-2.86zM5.41 20L4 18.59l7.72-7.72 1.47 1.35L5.41 20z\"/>\n",
              "  </svg>\n",
              "      </button>\n",
              "      \n",
              "  <style>\n",
              "    .colab-df-container {\n",
              "      display:flex;\n",
              "      flex-wrap:wrap;\n",
              "      gap: 12px;\n",
              "    }\n",
              "\n",
              "    .colab-df-convert {\n",
              "      background-color: #E8F0FE;\n",
              "      border: none;\n",
              "      border-radius: 50%;\n",
              "      cursor: pointer;\n",
              "      display: none;\n",
              "      fill: #1967D2;\n",
              "      height: 32px;\n",
              "      padding: 0 0 0 0;\n",
              "      width: 32px;\n",
              "    }\n",
              "\n",
              "    .colab-df-convert:hover {\n",
              "      background-color: #E2EBFA;\n",
              "      box-shadow: 0px 1px 2px rgba(60, 64, 67, 0.3), 0px 1px 3px 1px rgba(60, 64, 67, 0.15);\n",
              "      fill: #174EA6;\n",
              "    }\n",
              "\n",
              "    [theme=dark] .colab-df-convert {\n",
              "      background-color: #3B4455;\n",
              "      fill: #D2E3FC;\n",
              "    }\n",
              "\n",
              "    [theme=dark] .colab-df-convert:hover {\n",
              "      background-color: #434B5C;\n",
              "      box-shadow: 0px 1px 3px 1px rgba(0, 0, 0, 0.15);\n",
              "      filter: drop-shadow(0px 1px 2px rgba(0, 0, 0, 0.3));\n",
              "      fill: #FFFFFF;\n",
              "    }\n",
              "  </style>\n",
              "\n",
              "      <script>\n",
              "        const buttonEl =\n",
              "          document.querySelector('#df-b1766e8c-e6d4-49f1-aef6-f761dbad5330 button.colab-df-convert');\n",
              "        buttonEl.style.display =\n",
              "          google.colab.kernel.accessAllowed ? 'block' : 'none';\n",
              "\n",
              "        async function convertToInteractive(key) {\n",
              "          const element = document.querySelector('#df-b1766e8c-e6d4-49f1-aef6-f761dbad5330');\n",
              "          const dataTable =\n",
              "            await google.colab.kernel.invokeFunction('convertToInteractive',\n",
              "                                                     [key], {});\n",
              "          if (!dataTable) return;\n",
              "\n",
              "          const docLinkHtml = 'Like what you see? Visit the ' +\n",
              "            '<a target=\"_blank\" href=https://colab.research.google.com/notebooks/data_table.ipynb>data table notebook</a>'\n",
              "            + ' to learn more about interactive tables.';\n",
              "          element.innerHTML = '';\n",
              "          dataTable['output_type'] = 'display_data';\n",
              "          await google.colab.output.renderOutput(dataTable, element);\n",
              "          const docLink = document.createElement('div');\n",
              "          docLink.innerHTML = docLinkHtml;\n",
              "          element.appendChild(docLink);\n",
              "        }\n",
              "      </script>\n",
              "    </div>\n",
              "  </div>\n",
              "  "
            ]
          },
          "metadata": {},
          "execution_count": 61
        }
      ]
    },
    {
      "cell_type": "markdown",
      "metadata": {
        "id": "v3iEY3wFD-6v"
      },
      "source": [
        "Download the clean data to csv file for futher reference."
      ]
    },
    {
      "cell_type": "code",
      "metadata": {
        "id": "bcBXMhiiIlpI"
      },
      "source": [
        "#To download the dataset to csv file\n",
        "df_news.to_csv (r'news_clean'+'.csv')"
      ],
      "execution_count": null,
      "outputs": []
    },
    {
      "cell_type": "markdown",
      "metadata": {
        "id": "9ilH7pdgHVjk"
      },
      "source": [
        "# **Feature Extraction**"
      ]
    },
    {
      "cell_type": "markdown",
      "metadata": {
        "id": "ks2HnxRjERAA"
      },
      "source": [
        "To convert the text to numbers, then feed it into the classification algorithms. Using CountVectorizer and tfidf functions"
      ]
    },
    {
      "cell_type": "code",
      "metadata": {
        "id": "tUDykTwGHXOT"
      },
      "source": [
        "#CountVectorizer\n",
        "\n",
        "#Import required library\n",
        "from sklearn.feature_extraction.text import CountVectorizer\n",
        "\n",
        "#Creating the bag of words\n",
        "bow_article = CountVectorizer().fit(df_news['article_clean'])\n",
        "\n",
        "article_vect = bow_article.transform(df_news['article_clean'])"
      ],
      "execution_count": null,
      "outputs": []
    },
    {
      "cell_type": "code",
      "metadata": {
        "colab": {
          "base_uri": "https://localhost:8080/"
        },
        "id": "PPb_14vXHem7",
        "outputId": "6e0dfe1d-f4bb-47fe-80ca-d2d18a6112ed"
      },
      "source": [
        "#TF-IDF\n",
        "\n",
        "#Import required library\n",
        "from sklearn.feature_extraction.text import TfidfTransformer\n",
        "\n",
        "#Define the function then display the result\n",
        "tfidf_transformer = TfidfTransformer().fit(article_vect)\n",
        "news_tfidf = tfidf_transformer.transform(article_vect)\n",
        "\n",
        "print(news_tfidf.shape)"
      ],
      "execution_count": null,
      "outputs": [
        {
          "output_type": "stream",
          "name": "stdout",
          "text": [
            "(6306, 84465)\n"
          ]
        }
      ]
    },
    {
      "cell_type": "markdown",
      "metadata": {
        "id": "VcOYZyxleYfu"
      },
      "source": [
        "# **Model Implementation**"
      ]
    },
    {
      "cell_type": "markdown",
      "metadata": {
        "id": "kqAiu56FE_uo"
      },
      "source": [
        "Use three (3) machine learning models to do classification.\n",
        "\n",
        "1.   Logistic Regression (LR)\n",
        "2.   Support Vector Machine (SVM)\n",
        "3.   K-Nearest Neighbours (KNN)"
      ]
    },
    {
      "cell_type": "code",
      "metadata": {
        "colab": {
          "base_uri": "https://localhost:8080/"
        },
        "id": "t04pisj5HueO",
        "outputId": "bdbbd497-b7eb-444a-e804-e7ed9d0e6d18"
      },
      "source": [
        "#Import required library\n",
        "from sklearn.model_selection import train_test_split\n",
        "\n",
        "#Define the data\n",
        "X = news_tfidf\n",
        "y = df_news['label']\n",
        "\n",
        "#Split the dataset to training set and test set\n",
        "X_train, X_test, Y_train, Y_test= train_test_split(X, y, test_size=0.2, random_state=42, stratify=y) #change the test_size value\n",
        "print (\"Total test data: \", len(Y_test))\n",
        "print (\"Total training data: \", len(Y_train))"
      ],
      "execution_count": null,
      "outputs": [
        {
          "output_type": "stream",
          "name": "stdout",
          "text": [
            "Total test data:  1262\n",
            "Total training data:  5044\n"
          ]
        }
      ]
    },
    {
      "cell_type": "code",
      "metadata": {
        "id": "BQq2C1wWIv06"
      },
      "source": [
        "#Import required library\n",
        "from sklearn.linear_model import SGDClassifier\n",
        "from sklearn.linear_model import LogisticRegression\n",
        "from sklearn.neighbors import KNeighborsClassifier\n",
        "\n",
        "#Define the function of the model\n",
        "modellr=LogisticRegression().fit(X_train,Y_train)\n",
        "modelsvm=SGDClassifier().fit(X_train,Y_train)\n",
        "modelknn=KNeighborsClassifier(n_neighbors=2).fit(X_train,Y_train) #change the n_neighbors value"
      ],
      "execution_count": null,
      "outputs": []
    },
    {
      "cell_type": "markdown",
      "metadata": {
        "id": "KHHy33WLef-M"
      },
      "source": [
        "# **Performance Evaluation**"
      ]
    },
    {
      "cell_type": "markdown",
      "metadata": {
        "id": "EQvhebVMFvSi"
      },
      "source": [
        "Evaluate the model performance to training set and test set by using 5 evaluation metrics.\n",
        "\n",
        "1. Accuracy\n",
        "2. Precision \n",
        "3. Recall\n",
        "4. F1-score\n",
        "5. Confusion matrix\n",
        "\n"
      ]
    },
    {
      "cell_type": "markdown",
      "metadata": {
        "id": "2jHU6yOd603T"
      },
      "source": [
        "**Logistic Regression**"
      ]
    },
    {
      "cell_type": "code",
      "metadata": {
        "colab": {
          "base_uri": "https://localhost:8080/",
          "height": 555
        },
        "id": "ZTxHZ0gHJbv6",
        "outputId": "4baa684b-3132-4a82-b385-c08ebd0bbf63"
      },
      "source": [
        "#Import required library\n",
        "from sklearn.metrics import accuracy_score\n",
        "from sklearn.metrics import classification_report\n",
        "import sklearn.metrics as metrics                                                 \n",
        "from mlxtend.plotting import plot_confusion_matrix\n",
        "from sklearn.metrics import confusion_matrix, ConfusionMatrixDisplay\n",
        "import seaborn as sns\n",
        "import matplotlib.pyplot as plt \n",
        "\n",
        "#Evaluate to training data set\n",
        "trainlr = modellr.score(X_train,Y_train)\n",
        "print('\\nLogictic Regression Training Data = {:.2f}%'.format(np.mean(trainlr*100)))\n",
        "\n",
        "#Evaluate to test data set\n",
        "#Model accuracy\n",
        "acc1 = modellr.score(X_test,Y_test)\n",
        "print('\\nLogictic Regression Test Data = {:.2f}%'.format(np.mean(acc1*100)))\n",
        "\n",
        "#F1-score\n",
        "y_pred1 = modellr.predict(X_test)\n",
        "print ('\\nLogictic Regression Classification Report:\\n' + classification_report(Y_test, y_pred1))\n",
        "\n",
        "#Confusion matrix\n",
        "ax1= plt.subplot()\n",
        "matrix1 = confusion_matrix(Y_test, y_pred1)\n",
        "sns.heatmap(matrix1, annot=True, fmt=\"d\")\n",
        "\n",
        "#Visualize the confusion matrix\n",
        "ax1.set_xlabel('Predicted labels');ax1.set_ylabel('True labels'); \n",
        "ax1.set_title('Confusion Matrix (Logictic Regression (LR))'); \n",
        "ax1.xaxis.set_ticklabels(['FAKE', 'REAL']); ax1.yaxis.set_ticklabels(['FAKE', 'REAL']);"
      ],
      "execution_count": null,
      "outputs": [
        {
          "output_type": "stream",
          "name": "stdout",
          "text": [
            "\n",
            "Logictic Regression Training Data = 95.94%\n",
            "\n",
            "Logictic Regression Test Data = 91.60%\n",
            "\n",
            "Logictic Regression Classification Report:\n",
            "              precision    recall  f1-score   support\n",
            "\n",
            "        FAKE       0.89      0.95      0.92       631\n",
            "        REAL       0.95      0.88      0.91       631\n",
            "\n",
            "    accuracy                           0.92      1262\n",
            "   macro avg       0.92      0.92      0.92      1262\n",
            "weighted avg       0.92      0.92      0.92      1262\n",
            "\n"
          ]
        },
        {
          "output_type": "display_data",
          "data": {
            "text/plain": [
              "<Figure size 432x288 with 2 Axes>"
            ],
            "image/png": "[encoded data removed]"
          },
          "metadata": {
            "needs_background": "light"
          }
        }
      ]
    },
    {
      "cell_type": "markdown",
      "metadata": {
        "id": "KVDv2ENR69Za"
      },
      "source": [
        "**Support Vector Machine (SVM)**"
      ]
    },
    {
      "cell_type": "code",
      "metadata": {
        "colab": {
          "base_uri": "https://localhost:8080/",
          "height": 555
        },
        "id": "E4ksbOni69Fv",
        "outputId": "62894786-ca68-4018-969a-8696934239fe"
      },
      "source": [
        "#Evaluate to training data set\n",
        "trainsvm = modelsvm.score(X_train,Y_train)\n",
        "print('\\nSupport Vector Machine (SVM) Training Data = {:.2f}%'.format(np.mean(trainsvm*100)))\n",
        "\n",
        "#Evaluate to test data set\n",
        "#Model accuracy\n",
        "acc2 = modelsvm.score(X_test,Y_test)\n",
        "print('\\nSupport Vector Machine (SVM) Test Data = {:.2f}%'.format(np.mean(acc2*100)))\n",
        "\n",
        "#F1-score\n",
        "y_pred2 = modelsvm.predict(X_test)\n",
        "print ('\\nSupport Vector Machine (SVM) Classification Report:\\n' + classification_report(Y_test, y_pred2))\n",
        "\n",
        "#Confusion matrix\n",
        "ax2= plt.subplot()\n",
        "matrix2 = confusion_matrix(Y_test, y_pred2)\n",
        "sns.heatmap(matrix2, annot=True, fmt=\"d\")\n",
        "\n",
        "#Visualize the confusion matrix\n",
        "ax2.set_xlabel('Predicted labels');ax2.set_ylabel('True labels'); \n",
        "ax2.set_title('Confusion Matrix (Support Vector Machine (SVM))'); \n",
        "ax2.xaxis.set_ticklabels(['FAKE', 'REAL']); ax2.yaxis.set_ticklabels(['FAKE', 'REAL']);"
      ],
      "execution_count": null,
      "outputs": [
        {
          "output_type": "stream",
          "name": "stdout",
          "text": [
            "\n",
            "Support Vector Machine (SVM) Training Data = 99.92%\n",
            "\n",
            "Support Vector Machine (SVM) Test Data = 93.34%\n",
            "\n",
            "Support Vector Machine (SVM) Classification Report:\n",
            "              precision    recall  f1-score   support\n",
            "\n",
            "        FAKE       0.92      0.95      0.93       631\n",
            "        REAL       0.95      0.92      0.93       631\n",
            "\n",
            "    accuracy                           0.93      1262\n",
            "   macro avg       0.93      0.93      0.93      1262\n",
            "weighted avg       0.93      0.93      0.93      1262\n",
            "\n"
          ]
        },
        {
          "output_type": "display_data",
          "data": {
            "text/plain": [
              "<Figure size 432x288 with 2 Axes>"
            ],
            "image/png": "[encoded data removed]"
          },
          "metadata": {
            "needs_background": "light"
          }
        }
      ]
    },
    {
      "cell_type": "markdown",
      "metadata": {
        "id": "dx2c8GEB7D4a"
      },
      "source": [
        "**K-Nearest Neighbour (KNN)**"
      ]
    },
    {
      "cell_type": "code",
      "metadata": {
        "colab": {
          "base_uri": "https://localhost:8080/",
          "height": 555
        },
        "id": "YRngxaKQ7GOh",
        "outputId": "b4432f35-01e8-4127-ce50-43ac714f6e64"
      },
      "source": [
        "#Evaluate to training data set\n",
        "trainknn = modelknn.score(X_train,Y_train)\n",
        "print('\\nK-Nearest Neighbour (KNN) Training Data = {:.2f}%'.format(np.mean(trainknn*100)))\n",
        "\n",
        "#Evaluate to test data set\n",
        "#Model accuracy\n",
        "acc3 = modelknn.score(X_test,Y_test)\n",
        "print('\\nK-Nearest Neighbour (KNN) Test Data = {:.2f}%'.format(np.mean(acc3*100)))\n",
        "\n",
        "#F1-score\n",
        "y_pred3 = modelknn.predict(X_test)\n",
        "print ('\\nK-Nearest Neighbour (KNN) Classification Report:\\n' + classification_report(Y_test, y_pred3))\n",
        "\n",
        "#Confusion matrix\n",
        "ax3= plt.subplot()\n",
        "matrix3 = confusion_matrix(Y_test, y_pred3)\n",
        "sns.heatmap(matrix3, annot=True, fmt=\"d\")\n",
        "\n",
        "#Visualize the confusion matrix\n",
        "ax3.set_xlabel('Predicted labels');ax3.set_ylabel('True labels'); \n",
        "ax3.set_title('Confusion Matrix (K-Nearest Neighbour (KNN))'); \n",
        "ax3.xaxis.set_ticklabels(['FAKE', 'REAL']); ax3.yaxis.set_ticklabels(['FAKE', 'REAL']);"
      ],
      "execution_count": null,
      "outputs": [
        {
          "output_type": "stream",
          "name": "stdout",
          "text": [
            "\n",
            "K-Nearest Neighbour (KNN) Training Data = 96.55%\n",
            "\n",
            "K-Nearest Neighbour (KNN) Test Data = 86.21%\n",
            "\n",
            "K-Nearest Neighbour (KNN) Classification Report:\n",
            "              precision    recall  f1-score   support\n",
            "\n",
            "        FAKE       0.86      0.87      0.86       631\n",
            "        REAL       0.87      0.86      0.86       631\n",
            "\n",
            "    accuracy                           0.86      1262\n",
            "   macro avg       0.86      0.86      0.86      1262\n",
            "weighted avg       0.86      0.86      0.86      1262\n",
            "\n"
          ]
        },
        {
          "output_type": "display_data",
          "data": {
            "text/plain": [
              "<Figure size 432x288 with 2 Axes>"
            ],
            "image/png": "[encoded data removed]"
          },
          "metadata": {
            "needs_background": "light"
          }
        }
      ]
    },
    {
      "cell_type": "markdown",
      "metadata": {
        "id": "KbJ4zpfX7KuX"
      },
      "source": [
        "**Comparing and Visualizing the Accuracy of 3 Models**"
      ]
    },
    {
      "cell_type": "code",
      "metadata": {
        "colab": {
          "base_uri": "https://localhost:8080/",
          "height": 370
        },
        "id": "r1NK_bqoVDWB",
        "outputId": "21a30b7d-2cd7-407a-cf69-fe3c7ecd4ebd"
      },
      "source": [
        "#Define label\n",
        "labels={'LR':acc1,'SVM':acc2,'KNN':acc3}\n",
        "for model, accuracy in labels.items():\n",
        "    print(str(model)+' : '+str('%.2f'%(accuracy*100) +'%'))\n",
        "\n",
        "#Visualize bar chart\n",
        "plt.figure(figsize=(6,4))\n",
        "plt.title('Comparing Accuracy of ML Models',fontsize=12)\n",
        "colors=['red','yellow','orange']\n",
        "plt.xticks(fontsize=12,color='blue')\n",
        "plt.yticks(fontsize=12,color='blue')\n",
        "plt.ylabel('Accuracy',fontsize=12)\n",
        "plt.xlabel('Models',fontsize=12)\n",
        "plt.bar(labels.keys(),labels.values(),edgecolor='black',color=colors, linewidth=2,alpha=0.5)"
      ],
      "execution_count": null,
      "outputs": [
        {
          "output_type": "stream",
          "name": "stdout",
          "text": [
            "LR : 91.60%\n",
            "SVM : 93.34%\n",
            "KNN : 86.21%\n"
          ]
        },
        {
          "output_type": "execute_result",
          "data": {
            "text/plain": [
              "<BarContainer object of 3 artists>"
            ]
          },
          "metadata": {},
          "execution_count": 70
        },
        {
          "output_type": "display_data",
          "data": {
            "text/plain": [
              "<Figure size 432x288 with 1 Axes>"
            ],
            "image/png": "[encoded data removed]"
          },
          "metadata": {
            "needs_background": "light"
          }
        }
      ]
    },
    {
      "cell_type": "markdown",
      "metadata": {
        "id": "rgQq4NxZ7URk"
      },
      "source": [
        "# **Parameter Tuning**"
      ]
    },
    {
      "cell_type": "markdown",
      "metadata": {
        "id": "I_d9cyeW5ZDo"
      },
      "source": [
        "**Using K-Fold Cross Validation**"
      ]
    },
    {
      "cell_type": "markdown",
      "metadata": {
        "id": "rL_071DV-9n5"
      },
      "source": [
        "A statistical method for evaluating and comparing predictive models that divide the original sample into two segments: one for learning or training the model, and another for evaluating it. "
      ]
    },
    {
      "cell_type": "code",
      "metadata": {
        "colab": {
          "base_uri": "https://localhost:8080/"
        },
        "id": "oGFo7C-N7Wnc",
        "outputId": "648e4af9-24dc-4168-a634-f3638369c3df"
      },
      "source": [
        "#Using K-Fold Cross Validation\n",
        "from sklearn.model_selection import cross_val_score\n",
        "\n",
        "#Define model\n",
        "lr = LogisticRegression()\n",
        "svm = SGDClassifier()\n",
        "knn = KNeighborsClassifier(n_neighbors=2)\n",
        "\n",
        "#Flatten y array using ravel() to avoid warning (optional)\n",
        "cv_results_lr=cross_val_score(lr,X,y.values.ravel(),cv=15)\n",
        "cv_results_svm=cross_val_score(svm,X,y.values.ravel(),cv=10)\n",
        "cv_results_knn=cross_val_score(knn,X,y.values.ravel(),cv=10)\n",
        "\n",
        "#Display the result\n",
        "print('\\nCross validation result for Logistic Regression (LR) is {:.2f}%'.format(np.mean(cv_results_lr)*100))\n",
        "print('\\nCross validation result for Support Vector Machine (SVM) is {:.2f}%'.format(np.mean(cv_results_svm)*100))\n",
        "print('\\nCross validation result for K-Nearest Neighbour (KNN) is {:.2f}%'.format(np.mean(cv_results_knn*100)))"
      ],
      "execution_count": null,
      "outputs": [
        {
          "output_type": "stream",
          "name": "stdout",
          "text": [
            "\n",
            "Cross validation result for Logistic Regression (LR) is 91.98%\n",
            "\n",
            "Cross validation result for Support Vector Machine (SVM) is 94.32%\n",
            "\n",
            "Cross validation result for K-Nearest Neighbour (KNN) is 87.61%\n"
          ]
        }
      ]
    },
    {
      "cell_type": "markdown",
      "metadata": {
        "id": "Bfw4RDv8Q8Li"
      },
      "source": [
        "**Cross-validation classification report**"
      ]
    },
    {
      "cell_type": "code",
      "metadata": {
        "colab": {
          "base_uri": "https://localhost:8080/"
        },
        "id": "Q4rfFKU_Ng9v",
        "outputId": "43b941a4-fec7-4755-82ed-124f3d2d9a74"
      },
      "source": [
        "from sklearn.metrics import classification_report, accuracy_score, make_scorer\n",
        "\n",
        "originalclass = []\n",
        "predictedclass = []\n",
        "\n",
        "def classification_report_with_accuracy_score(y_true, y_pred):\n",
        "    originalclass.extend(y_true)\n",
        "    predictedclass.extend(y_pred)\n",
        "    return accuracy_score(y_true, y_pred) # return accuracy score\n",
        "\n",
        "# Nested CV with parameter optimization (LR)\n",
        "nested_score = cross_val_score(lr,X,y.values.ravel(),cv=15, scoring=make_scorer(classification_report_with_accuracy_score))\n",
        "\n",
        "# Average values in classification report for all folds in a K-fold Cross-validation  \n",
        "print(classification_report(originalclass, predictedclass)) \n",
        "print('\\nCross validation accuracy result for Logistic Regression (LR) is {:.2f}%'.format(np.mean(nested_score)*100))"
      ],
      "execution_count": null,
      "outputs": [
        {
          "output_type": "stream",
          "name": "stdout",
          "text": [
            "              precision    recall  f1-score   support\n",
            "\n",
            "        FAKE       0.89      0.95      0.92      3152\n",
            "        REAL       0.95      0.89      0.92      3154\n",
            "\n",
            "    accuracy                           0.92      6306\n",
            "   macro avg       0.92      0.92      0.92      6306\n",
            "weighted avg       0.92      0.92      0.92      6306\n",
            "\n",
            "\n",
            "Cross validation accuracy result for Logistic Regression (LR) is 91.98%\n"
          ]
        }
      ]
    },
    {
      "cell_type": "code",
      "metadata": {
        "colab": {
          "base_uri": "https://localhost:8080/"
        },
        "id": "_Z2MWU-iUp-o",
        "outputId": "c8bfb6fa-529b-4edf-f6ba-0115450ed9a0"
      },
      "source": [
        "# Nested CV with parameter optimization (SVM)\n",
        "nested_score = cross_val_score(svm,X,y.values.ravel(),cv=15, scoring=make_scorer(classification_report_with_accuracy_score))\n",
        "print(classification_report(originalclass, predictedclass)) \n",
        "print('\\nCross validation accuracy result for Support Vector Machine (SVM) is {:.2f}%'.format(np.mean(nested_score)*100))"
      ],
      "execution_count": null,
      "outputs": [
        {
          "output_type": "stream",
          "name": "stdout",
          "text": [
            "              precision    recall  f1-score   support\n",
            "\n",
            "        FAKE       0.91      0.95      0.93      6304\n",
            "        REAL       0.95      0.91      0.93      6308\n",
            "\n",
            "    accuracy                           0.93     12612\n",
            "   macro avg       0.93      0.93      0.93     12612\n",
            "weighted avg       0.93      0.93      0.93     12612\n",
            "\n",
            "\n",
            "Cross validation accuracy result for Support Vector Machine (SVM) is 94.40%\n"
          ]
        }
      ]
    },
    {
      "cell_type": "code",
      "metadata": {
        "colab": {
          "base_uri": "https://localhost:8080/"
        },
        "id": "2eCbupIlVUzV",
        "outputId": "13dba33e-60aa-41ed-bdfc-833ab304d45a"
      },
      "source": [
        "# Nested CV with parameter optimization (KNN)\n",
        "nested_score = cross_val_score(knn,X,y.values.ravel(),cv=13, scoring=make_scorer(classification_report_with_accuracy_score))\n",
        "print(classification_report(originalclass, predictedclass)) \n",
        "print('\\nCross validation accuracy result for K-Nearest Neighbour (KNN) is {:.2f}%'.format(np.mean(nested_score)*100))"
      ],
      "execution_count": null,
      "outputs": [
        {
          "output_type": "stream",
          "name": "stdout",
          "text": [
            "              precision    recall  f1-score   support\n",
            "\n",
            "        FAKE       0.90      0.93      0.92      9456\n",
            "        REAL       0.93      0.90      0.91      9462\n",
            "\n",
            "    accuracy                           0.91     18918\n",
            "   macro avg       0.91      0.91      0.91     18918\n",
            "weighted avg       0.91      0.91      0.91     18918\n",
            "\n",
            "\n",
            "Cross validation accuracy result for K-Nearest Neighbour (KNN) is 87.93%\n"
          ]
        }
      ]
    },
    {
      "cell_type": "markdown",
      "metadata": {
        "id": "64nP_ciN5ooP"
      },
      "source": [
        "**Using GridSearchCV**"
      ]
    },
    {
      "cell_type": "markdown",
      "metadata": {
        "id": "WW36yoYf9Orp"
      },
      "source": [
        "To determine the best values for a model's hyperparameters"
      ]
    },
    {
      "cell_type": "code",
      "metadata": {
        "id": "0ugtemNy5sPe"
      },
      "source": [
        "#Import required libary\n",
        "from sklearn.model_selection import GridSearchCV\n",
        "from sklearn.model_selection import RepeatedStratifiedKFold\n",
        "\n",
        "#Define cross-validation value\n",
        "cvgs = RepeatedStratifiedKFold(n_splits=13, n_repeats=3, random_state=1)"
      ],
      "execution_count": null,
      "outputs": []
    },
    {
      "cell_type": "markdown",
      "metadata": {
        "id": "4w_LZbqR6Onr"
      },
      "source": [
        "**Logistic Regression (LR)**"
      ]
    },
    {
      "cell_type": "code",
      "metadata": {
        "colab": {
          "base_uri": "https://localhost:8080/"
        },
        "id": "UTPl17xX55B_",
        "outputId": "cb84aff6-79c3-4e87-a65d-20f6757bbad5"
      },
      "source": [
        "#Define parameter\n",
        "paramslr = {\n",
        "    \"solver\" : ['newton-cg', 'lbfgs', 'liblinear'],\n",
        "    \"penalty\" : ['l2'],\n",
        "    \"C\" : [1e-5, 1e-4, 1e-3, 1e-2, 1e-1, 1, 10, 100],\n",
        "}\n",
        "\n",
        "#Define model LR\n",
        "lrgs = LogisticRegression(max_iter=1000)\n",
        "\n",
        "#Define search\n",
        "searchgslr = GridSearchCV(lrgs, paramslr, scoring='accuracy', n_jobs=-1, cv=cvgs, error_score='raise')\n",
        "\n",
        "#Execute search\n",
        "resultgslr = searchgslr.fit(X, y)\n",
        "\n",
        "#Summarize result\n",
        "print('Best Score: {:.2f}%'.format(np.mean(resultgslr.best_score_*100)))\n",
        "print('Best Hyperparameters: %s' % resultgslr.best_params_)\n",
        "\n",
        "#Evaluate to test data\n",
        "final_lr = resultgslr.best_estimator_\n",
        "print(final_lr)\n",
        "\n",
        "scorelr = final_lr.score(X_test,Y_test)\n",
        "print('\\nAccuracy Score : {:.2f}%'.format(np.mean(scorelr*100)))\n",
        "\n",
        "resultgslr_predictions = final_lr.predict(X_test)\n",
        "print('\\nClassification report:\\n' + classification_report(Y_test, resultgslr_predictions))"
      ],
      "execution_count": null,
      "outputs": [
        {
          "output_type": "stream",
          "name": "stdout",
          "text": [
            "Best Score: 94.23%\n",
            "Best Hyperparameters: {'C': 100, 'penalty': 'l2', 'solver': 'newton-cg'}\n",
            "LogisticRegression(C=100, max_iter=1000, solver='newton-cg')\n",
            "\n",
            "Accuracy Score : 100.00%\n",
            "\n",
            "Classification report:\n",
            "              precision    recall  f1-score   support\n",
            "\n",
            "        FAKE       1.00      1.00      1.00       631\n",
            "        REAL       1.00      1.00      1.00       631\n",
            "\n",
            "    accuracy                           1.00      1262\n",
            "   macro avg       1.00      1.00      1.00      1262\n",
            "weighted avg       1.00      1.00      1.00      1262\n",
            "\n"
          ]
        }
      ]
    },
    {
      "cell_type": "markdown",
      "metadata": {
        "id": "J-5ftMUF8ene"
      },
      "source": [
        "**Support Vector Machine (SVM)**"
      ]
    },
    {
      "cell_type": "code",
      "metadata": {
        "colab": {
          "base_uri": "https://localhost:8080/"
        },
        "id": "T9tIpI1_9XUh",
        "outputId": "7a560292-b556-4619-cedf-7741b8f086e3"
      },
      "source": [
        "#Define parameter\n",
        "paramssvm = {\n",
        "    \"loss\" : [\"hinge\", \"log\", \"squared_hinge\", \"modified_huber\"],\n",
        "    \"alpha\" : [0.0001, 0.001, 0.01, 0.1],\n",
        "    \"penalty\" : [\"l2\", \"l1\", \"none\"],\n",
        "}\n",
        "\n",
        "#Define model SVM\n",
        "svmgs = SGDClassifier(max_iter=1000)\n",
        "\n",
        "#Define search\n",
        "searchgssvm = GridSearchCV(svmgs, paramssvm, scoring='accuracy', n_jobs=-1, cv=cvgs)\n",
        "\n",
        "#Execute search\n",
        "resultgssvm = searchgssvm.fit(X, y)\n",
        "\n",
        "#Summarize result\n",
        "print('Best Score: {:.2f}%'.format(np.mean(resultgssvm.best_score_*100)))\n",
        "print('Best Hyperparameters: %s' % resultgssvm.best_params_)\n",
        "\n",
        "#Evaluate to test data\n",
        "final_svm = resultgssvm.best_estimator_\n",
        "print(final_svm)\n",
        "\n",
        "scoresvm = final_svm.score(X_test,Y_test)\n",
        "print('\\nAccuracy Score : {:.2f}%'.format(np.mean(scoresvm*100)))\n",
        "\n",
        "resultgssvm_predictions = final_svm.predict(X_test)\n",
        "print('\\nClassification report:\\n' + classification_report(Y_test, resultgssvm_predictions))"
      ],
      "execution_count": null,
      "outputs": [
        {
          "output_type": "stream",
          "name": "stdout",
          "text": [
            "Best Score: 94.50%\n",
            "Best Hyperparameters: {'alpha': 0.0001, 'loss': 'hinge', 'penalty': 'l2'}\n",
            "SGDClassifier()\n",
            "\n",
            "Accuracy Score : 99.76%\n",
            "\n",
            "Classification report:\n",
            "              precision    recall  f1-score   support\n",
            "\n",
            "        FAKE       1.00      1.00      1.00       631\n",
            "        REAL       1.00      1.00      1.00       631\n",
            "\n",
            "    accuracy                           1.00      1262\n",
            "   macro avg       1.00      1.00      1.00      1262\n",
            "weighted avg       1.00      1.00      1.00      1262\n",
            "\n"
          ]
        }
      ]
    },
    {
      "cell_type": "markdown",
      "metadata": {
        "id": "-tJcIBBQ9Xov"
      },
      "source": [
        "**K-Nearest Neighbour (KNN)**"
      ]
    },
    {
      "cell_type": "code",
      "metadata": {
        "colab": {
          "base_uri": "https://localhost:8080/"
        },
        "id": "ebofuwpO9cTA",
        "outputId": "a556ab98-50cd-4873-ccbe-da9dedae037a"
      },
      "source": [
        "#Define parameter\n",
        "k_range = list(range(1,10))\n",
        "weight_options = [\"uniform\", \"distance\"]\n",
        "paramsknn = dict(n_neighbors = k_range, weights = weight_options)\n",
        "\n",
        "#Define search\n",
        "searchgsknn = GridSearchCV(knn, paramsknn, scoring='accuracy', n_jobs=-1, cv=cvgs)\n",
        "\n",
        "#Execute search\n",
        "resultgsknn = searchgsknn.fit(X,y)\n",
        "\n",
        "#Summarize result\n",
        "print('Best Score: {:.2f}%'.format(np.mean(resultgsknn.best_score_*100)))\n",
        "print('Best Hyperparameters: %s' % resultgsknn.best_params_)\n",
        "\n",
        "#Evaluate to test data\n",
        "final_knn = resultgsknn.best_estimator_\n",
        "print(final_knn)\n",
        "\n",
        "scoreknn = final_knn.score(X_test,Y_test)\n",
        "print('\\nAccuracy Score : {:.2f}%'.format(np.mean(scoreknn*100)))\n",
        "\n",
        "resultgsknn_predictions = final_knn.predict(X_test)\n",
        "print('\\nClassification report:\\n' + classification_report(Y_test, resultgsknn_predictions))"
      ],
      "execution_count": null,
      "outputs": [
        {
          "output_type": "stream",
          "name": "stdout",
          "text": [
            "Best Score: 87.75%\n",
            "Best Hyperparameters: {'n_neighbors': 2, 'weights': 'uniform'}\n",
            "KNeighborsClassifier(n_neighbors=2)\n",
            "\n",
            "Accuracy Score : 96.75%\n",
            "\n",
            "Classification report:\n",
            "              precision    recall  f1-score   support\n",
            "\n",
            "        FAKE       0.94      1.00      0.97       631\n",
            "        REAL       1.00      0.94      0.97       631\n",
            "\n",
            "    accuracy                           0.97      1262\n",
            "   macro avg       0.97      0.97      0.97      1262\n",
            "weighted avg       0.97      0.97      0.97      1262\n",
            "\n"
          ]
        }
      ]
    },
    {
      "cell_type": "markdown",
      "metadata": {
        "id": "bKOufzNKFUeG"
      },
      "source": [
        "**Paired T-Test**"
      ]
    },
    {
      "cell_type": "code",
      "metadata": {
        "colab": {
          "base_uri": "https://localhost:8080/"
        },
        "id": "ymWzGgWjFT8J",
        "outputId": "8eb7f365-f892-407a-d83a-6cc13325d291"
      },
      "source": [
        "#T-Test for LR & SVM\n",
        "from mlxtend.evaluate import paired_ttest_5x2cv\n",
        "\n",
        "t, p = paired_ttest_5x2cv(estimator1=lrgs, estimator2=svmgs, X=X, y=y, scoring='accuracy', random_seed=1)\n",
        "\n",
        "# summarize\n",
        "print('P-value for LR & SVM: %.3f, t-Statistic: %.3f' % (p, t))\n",
        "\n",
        "# interpret the result\n",
        "if p <= 0.05:\n",
        "\tprint('Difference between mean performance is probably real') #significant\n",
        "else:\n",
        "\tprint('Algorithms probably have the same performance')\n",
        " "
      ],
      "execution_count": null,
      "outputs": [
        {
          "output_type": "stream",
          "name": "stdout",
          "text": [
            "P-value for LR & SVM: 0.000, t-Statistic: -20.291\n",
            "Difference between mean performance is probably real\n"
          ]
        }
      ]
    },
    {
      "cell_type": "code",
      "metadata": {
        "colab": {
          "base_uri": "https://localhost:8080/"
        },
        "id": "pdQmAt-zQ_66",
        "outputId": "850b7d40-e899-4120-bf48-a63e271c5e40"
      },
      "source": [
        "#T-Test for SVM & KNN\n",
        "from mlxtend.evaluate import paired_ttest_5x2cv\n",
        "\n",
        "t, p = paired_ttest_5x2cv(estimator1=svmgs, estimator2=knn, X=X, y=y, scoring='accuracy', random_seed=1)\n",
        "\n",
        "# summarize\n",
        "print('P-value for SVM & KNN: %.3f, t-Statistic: %.3f' % (p, t))\n",
        "\n",
        "# interpret the result\n",
        "if p <= 0.05:\n",
        "\tprint('Difference between mean performance is probably real') #significant\n",
        "else:\n",
        "\tprint('Algorithms probably have the same performance')"
      ],
      "execution_count": null,
      "outputs": [
        {
          "output_type": "stream",
          "name": "stdout",
          "text": [
            "P-value for SVM & KNN: 0.000, t-Statistic: 15.646\n",
            "Difference between mean performance is probably real\n"
          ]
        }
      ]
    },
    {
      "cell_type": "code",
      "metadata": {
        "colab": {
          "base_uri": "https://localhost:8080/"
        },
        "id": "7V9Se2wXRDIM",
        "outputId": "51f4adf3-17f3-48b9-9cf4-3dfc635487ac"
      },
      "source": [
        "#T-Test for LR & KNN\n",
        "from mlxtend.evaluate import paired_ttest_5x2cv\n",
        "\n",
        "t, p = paired_ttest_5x2cv(estimator1=knn, estimator2=lrgs, X=X, y=y, scoring='accuracy', random_seed=1)\n",
        "\n",
        "# summarize\n",
        "print('P-value LR & KNN: %.3f, t-Statistic: %.3f' % (p, t))\n",
        "\n",
        "# interpret the result\n",
        "if p <= 0.05:\n",
        "\tprint('Difference between mean performance is probably real') #significant\n",
        "else:\n",
        "\tprint('Algorithms probably have the same performance')"
      ],
      "execution_count": null,
      "outputs": [
        {
          "output_type": "stream",
          "name": "stdout",
          "text": [
            "P-value LR & KNN: 0.000, t-Statistic: -8.579\n",
            "Difference between mean performance is probably real\n"
          ]
        }
      ]
    }
  ]
}